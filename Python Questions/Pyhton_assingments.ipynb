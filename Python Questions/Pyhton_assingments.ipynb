{
 "cells": [
  {
   "cell_type": "markdown",
   "metadata": {},
   "source": [
    "## Armstrong Number\n",
    "<h3>Task:\n",
    "<h5>\n",
    "Find out if a given number is an \"Armstrong Number\".\n",
    "<br>\n",
    "An n-digit number that is the sum of the nth powers of its digits is called an n-Armstrong number. Examples :\n",
    "<br>\n",
    "371 = 3**3 + 7**3 + 1**3; <br>\n",
    "9474 = 9**4 + 4**4 + 7**4 + 4**4;<br>\n",
    "93084 = 9**5 + 3**5 + 0**5 + 8**5 + 4**5.<br>\n",
    "\n",
    "Write a Python program that;<br>\n",
    "<li>takes a positive integer number from the user,\n",
    "<li>checks the entered number if it is Armstrong,\n",
    "<li>consider the negative, float and any entries other than numeric values then display a warning message to the user.\n"
   ]
  },
  {
   "cell_type": "code",
   "execution_count": 59,
   "metadata": {},
   "outputs": [
    {
     "name": "stdout",
     "output_type": "stream",
     "text": [
      "56412435749787 is not an Amstrong number\n"
     ]
    }
   ],
   "source": [
    "number = input(\"Write a number here: \")\n",
    "\n",
    "if number.isdigit():  # Check if it is int\n",
    "    \n",
    "    if int(number) <= 0:  # Check if its possitive\n",
    "        print(\"It is an invalid entry. Don't use non-numeric, float, or negative values!\")\n",
    "    else:\n",
    "        list_num = list(number)\n",
    "        total = 0\n",
    "        i=0\n",
    "        for i in range(0, len(list_num)):  # Calculate elements\n",
    "           total += int(list_num[i]) ** len(list_num)\n",
    "        if total == int(number):\n",
    "            print(\"{} is an Amstrong number\".format(int(number)))\n",
    "        else:\n",
    "            print(\"{} is not an Amstrong number\".format(int(number)))\n",
    "\n",
    "else:\n",
    "    print(\"It is an invalid entry. Don't use non-numeric, float, or negative values!\")\n",
    "\n",
    "\n",
    "\n",
    "\n",
    "\n",
    "\n",
    "\n"
   ]
  },
  {
   "cell_type": "code",
   "execution_count": 67,
   "metadata": {},
   "outputs": [
    {
     "name": "stdout",
     "output_type": "stream",
     "text": [
      "1110531522546487977700025121315461187  is not an Armstrong Number.\n"
     ]
    }
   ],
   "source": [
    "# Joseph hocanin cevabi\n",
    "while True:\n",
    "    \n",
    "    number = input(\"Enter a positive integer number: \")\n",
    "    digits = len(number)\n",
    "    summ = 0\n",
    "\n",
    "    if not number.isdigit():\n",
    "                \n",
    "        print(number, \"is invalid entry. please enter valid input\")\n",
    "\n",
    "    elif int(number) >= 0:\n",
    "\n",
    "        for i in range(digits):\n",
    "\n",
    "            summ = summ + int(number[i]) ** digits\n",
    "        if summ == int(number):\n",
    "            print(number, \" is an Armstrong Number.\")\n",
    "            break\n",
    "        \n",
    "        else:\n",
    "            \n",
    "            print(number, \" is not an Armstrong Number.\")\n",
    "            break\n",
    "\n",
    "\n",
    "\n",
    "\n"
   ]
  },
  {
   "cell_type": "markdown",
   "metadata": {},
   "source": [
    "## Comfortable words assingment"
   ]
  },
  {
   "cell_type": "code",
   "execution_count": 9,
   "metadata": {},
   "outputs": [
    {
     "data": {
      "text/plain": [
       "{'a', 'b', 'c', 'd', 'e', 'f', 'g', 'q', 'r', 's', 't', 'v', 'w', 'x', 'z'}"
      ]
     },
     "execution_count": 9,
     "metadata": {},
     "output_type": "execute_result"
    }
   ],
   "source": [
    "left = set(\"qwertasdfgzxcvb\")\n",
    "left"
   ]
  },
  {
   "cell_type": "code",
   "execution_count": 10,
   "metadata": {},
   "outputs": [
    {
     "data": {
      "text/plain": [
       "{'h', 'i', 'j', 'k', 'l', 'm', 'n', 'o', 'p', 'u', 'y', 'å', 'æ', 'ø'}"
      ]
     },
     "execution_count": 10,
     "metadata": {},
     "output_type": "execute_result"
    }
   ],
   "source": [
    "right = set(\"åpoiuyæølkjhmn\")\n",
    "right"
   ]
  },
  {
   "cell_type": "code",
   "execution_count": 30,
   "metadata": {},
   "outputs": [
    {
     "data": {
      "text/plain": [
       "{'1', 'a', 'b', 's'}"
      ]
     },
     "execution_count": 30,
     "metadata": {},
     "output_type": "execute_result"
    }
   ],
   "source": [
    "word = input(\"give me something: \")\n",
    "word = set(word)\n",
    "word"
   ]
  },
  {
   "cell_type": "code",
   "execution_count": 31,
   "metadata": {},
   "outputs": [
    {
     "name": "stdout",
     "output_type": "stream",
     "text": [
      "ja\n"
     ]
    }
   ],
   "source": [
    "if len(word.difference(left)) >= 1:\n",
    "    print(\"ja\")\n",
    "else:\n",
    "    print(\"nie\")"
   ]
  },
  {
   "cell_type": "code",
   "execution_count": 23,
   "metadata": {},
   "outputs": [
    {
     "data": {
      "text/plain": [
       "False"
      ]
     },
     "execution_count": 23,
     "metadata": {},
     "output_type": "execute_result"
    }
   ],
   "source": [
    "bool(set())"
   ]
  },
  {
   "cell_type": "code",
   "execution_count": 28,
   "metadata": {},
   "outputs": [],
   "source": [
    "leftcheck = bool(word.intersection(left))\n",
    "rightcheck = bool(word.intersection(right))"
   ]
  },
  {
   "cell_type": "code",
   "execution_count": 32,
   "metadata": {},
   "outputs": [
    {
     "data": {
      "text/plain": [
       "False"
      ]
     },
     "execution_count": 32,
     "metadata": {},
     "output_type": "execute_result"
    }
   ],
   "source": [
    "sonuc = leftcheck and rightcheck\n",
    "sonuc"
   ]
  },
  {
   "cell_type": "markdown",
   "metadata": {},
   "source": [
    "## Write a program\n",
    " to accept a string from the user and display characters that are present at an even index number.\n",
    "\n",
    "For example, str = \"pynative\" so you should display ‘p’, ‘n’, ‘t’, ‘v’."
   ]
  },
  {
   "cell_type": "code",
   "execution_count": 10,
   "metadata": {},
   "outputs": [
    {
     "ename": "TypeError",
     "evalue": "'str' object is not callable",
     "output_type": "error",
     "traceback": [
      "\u001b[1;31m---------------------------------------------------------------------------\u001b[0m",
      "\u001b[1;31mTypeError\u001b[0m                                 Traceback (most recent call last)",
      "\u001b[1;32m<ipython-input-10-8e9cb5cb2499>\u001b[0m in \u001b[0;36m<module>\u001b[1;34m\u001b[0m\n\u001b[1;32m----> 1\u001b[1;33m \u001b[0mnumber\u001b[0m \u001b[1;33m=\u001b[0m \u001b[0mlist\u001b[0m\u001b[1;33m(\u001b[0m\u001b[0minput\u001b[0m\u001b[1;33m(\u001b[0m\u001b[1;34m\"Write something: \"\u001b[0m\u001b[1;33m)\u001b[0m\u001b[1;33m)\u001b[0m\u001b[1;33m\u001b[0m\u001b[1;33m\u001b[0m\u001b[0m\n\u001b[0m\u001b[0;32m      2\u001b[0m \u001b[0mnumber\u001b[0m\u001b[1;33m\u001b[0m\u001b[1;33m\u001b[0m\u001b[0m\n",
      "\u001b[1;31mTypeError\u001b[0m: 'str' object is not callable"
     ]
    }
   ],
   "source": []
  },
  {
   "cell_type": "markdown",
   "metadata": {},
   "source": [
    "## Fibonacci Numbers"
   ]
  },
  {
   "cell_type": "markdown",
   "metadata": {},
   "source": [
    "Task : Create a list consisting of Fibonacci numbers from 1 to 55 using control flow statements and range() function.\n",
    "\n",
    "The desired output is like this:\n",
    "\n",
    "fibonacci →  [1, 1, 2, 3, 5, 8, 13, 21, 34, 55]"
   ]
  },
  {
   "cell_type": "code",
   "execution_count": 11,
   "metadata": {},
   "outputs": [
    {
     "name": "stdout",
     "output_type": "stream",
     "text": [
      "[1, 1, 2, 3, 5, 8, 13, 21, 34, 55]\n"
     ]
    }
   ],
   "source": [
    "fibonacci = []\n",
    "\n",
    "for i in range(1, 11):\n",
    "    if i-1 and i-2:\n",
    "        a = fibonacci[i-3] + fibonacci[i-2]\n",
    "        fibonacci.append(a)\n",
    "    else:\n",
    "        fibonacci.append(1)\n",
    "print(fibonacci)"
   ]
  },
  {
   "cell_type": "code",
   "execution_count": 7,
   "metadata": {},
   "outputs": [],
   "source": [
    "fibo = [1, 1]"
   ]
  },
  {
   "cell_type": "code",
   "execution_count": 8,
   "metadata": {},
   "outputs": [
    {
     "data": {
      "text/plain": [
       "[1, 1, 2, 3, 5, 8, 13, 21, 34, 55, 89, 144]"
      ]
     },
     "execution_count": 8,
     "metadata": {},
     "output_type": "execute_result"
    }
   ],
   "source": [
    "for i in range(10) :  # len(fibo) - 1 seklinde yapinca i +1 ile islem yapabiliyoruz\n",
    "    fibo.append(fibo[i] + fibo[i+1])\n",
    "fibo"
   ]
  },
  {
   "cell_type": "markdown",
   "metadata": {},
   "source": [
    "## Prime Numbers"
   ]
  },
  {
   "cell_type": "markdown",
   "metadata": {},
   "source": [
    "Task : Write a program that takes a number from the user and prints the result to check if it is a prime number.\n",
    "\n",
    "The examples of the desired output are as follows :\n",
    "\n",
    "input →  19 ⇉ output : 19 is a prime number\n",
    "input →  10 ⇉ output : 10 is not a prime number"
   ]
  },
  {
   "cell_type": "code",
   "execution_count": 107,
   "metadata": {},
   "outputs": [
    {
     "name": "stdout",
     "output_type": "stream",
     "text": [
      "89  is not a prime number\n",
      "89  is not a prime number\n",
      "89  is not a prime number\n",
      "89  is not a prime number\n"
     ]
    }
   ],
   "source": [
    "number = int(input(\"write a number here\"))\n",
    "\n",
    "test_div = [3, 5, 7, 11]\n",
    "dum = []\n",
    "b = 0\n",
    "if number < 2:\n",
    "    print(f\"{number} is not a prime number\")\n",
    "    b += 1\n",
    "elif number == 2:\n",
    "    print(f\"{number} is a prime number\")\n",
    "    \n",
    "elif number > 2:\n",
    "    if number % 2 == 0:\n",
    "        print(f\"{number} is not a prime number\")\n",
    "        \n",
    "    else:\n",
    "        if number == 3:\n",
    "            print(f\"{number} is a prime number\")\n",
    "        elif number == 5:\n",
    "            print(f\"{number} is a prime number\")\n",
    "        elif number == 7:\n",
    "            print(f\"{number} is a prime number\")\n",
    "        elif number == 11:\n",
    "            print(f\"{number} is a prime number\")\n",
    "        else:\n",
    "            for i in test_div:\n",
    "                a = number % i\n",
    "                dum.append(a)\n",
    "for i in dum:\n",
    "    if i == 0:\n",
    "        b += 1\n",
    "    else:\n",
    "        break\n",
    "\n",
    "if b != 0:\n",
    "     print(f\"{number} is a prime number\")\n",
    "else:\n",
    "    print(f\"{number} is not a prime number\")\n"
   ]
  },
  {
   "cell_type": "code",
   "execution_count": null,
   "metadata": {},
   "outputs": [],
   "source": [
    "a = int(input())\n",
    "x = True\n",
    "for i in range(2,a):\n",
    "  if (a % i) == 0:\n",
    "    x = False\n",
    "if x:\n",
    "  print(a,\"is prime number\")\n",
    "else:\n",
    "  print(a, \"is not a prime number\")"
   ]
  },
  {
   "cell_type": "code",
   "execution_count": 111,
   "metadata": {},
   "outputs": [
    {
     "name": "stdout",
     "output_type": "stream",
     "text": [
      "91 is not a prime number.\n"
     ]
    }
   ],
   "source": [
    "#Hocanin cozumu\n",
    "n = int(input(\"Enter a positive int number to check if it's a prime number: \"))\n",
    "\n",
    "counter = 0\n",
    "\n",
    "# if modulus operation in range returns more than 2 (dividion by 1 and division by self) it is not prime.\n",
    "# using counter as a parameter, calculate how many modulus exists.\n",
    "\n",
    "for i in range (1, n + 1):\n",
    "    if n % i == 0:\n",
    "        counter += 1\n",
    "\n",
    "if (n ==0) or (n == 1) or (counter >= 3):\n",
    "    print(n, \"is not a prime number.\")\n",
    "else:\n",
    "    print(n, \"is a prime number.\")"
   ]
  },
  {
   "cell_type": "markdown",
   "metadata": {},
   "source": [
    "## Assignment - 1 (Doubler)\n",
    "Given two integer values, return their sum. If the two values are the same, then return double their sum.\n",
    "\n",
    "\n",
    "\n",
    "\n",
    "For example:\n",
    "\n",
    "Test\tResult\n",
    "print(sum_double(1, 2))\n",
    "3\n",
    "print(sum_double(5, 7))\n",
    "12\n",
    "print(sum_double(5, 5))\n",
    "20"
   ]
  },
  {
   "cell_type": "code",
   "execution_count": 1,
   "metadata": {},
   "outputs": [],
   "source": [
    "def sum_double(x, y):\n",
    "    if x != y:\n",
    "        return x + y\n",
    "    else:\n",
    "        return (x + y) * 2\n",
    "        "
   ]
  },
  {
   "cell_type": "code",
   "execution_count": 4,
   "metadata": {},
   "outputs": [
    {
     "data": {
      "text/plain": [
       "20"
      ]
     },
     "execution_count": 4,
     "metadata": {},
     "output_type": "execute_result"
    }
   ],
   "source": [
    "sum_double(5, 5)"
   ]
  },
  {
   "cell_type": "markdown",
   "metadata": {},
   "source": [
    "## Assignment - 2 (Parrot Trouble)\n",
    "We have a loud talking parrot. We are in trouble if the parrot is talking and the hour is before 6 or after 21. <br>\n",
    "Define a function taking two parameters (talking and hour) to return True if we are in trouble. The argument to  talking parameter can only be True or False whether it is talking or not. The argument to hour parameter should be the current hour time in the range of 0 to 23. <br>\n",
    "For example: <br>\n",
    "\n",
    "Test\tResult <br>\n",
    "print(parrot_trouble(True, 5)) <br>\n",
    "True <br>\n",
    "print(parrot_trouble(True, 8)) <br>\n",
    "False <br>\n",
    "print(parrot_trouble(False, 22)) <br>\n",
    "False <br>"
   ]
  },
  {
   "cell_type": "code",
   "execution_count": 25,
   "metadata": {},
   "outputs": [
    {
     "data": {
      "text/plain": [
       "False"
      ]
     },
     "execution_count": 25,
     "metadata": {},
     "output_type": "execute_result"
    }
   ],
   "source": [
    "def parrot_trouble(s, h):\n",
    "    if s:\n",
    "        if h < 6 or h > 21:\n",
    "            return True\n",
    "        else:\n",
    "            return False\n",
    "    else:\n",
    "        return False\n",
    "parrot_trouble(False, 22)"
   ]
  },
  {
   "cell_type": "markdown",
   "metadata": {},
   "source": [
    "## Assignment - 5 (Front-Back Char)\n",
    "Given a string, return a new string where the first and last chars have been exchanged.\n",
    "For example: <br>\n",
    "\n",
    "Test\tResult<br>\n",
    "print(front_back('clarusway')) -->\n",
    "ylaruswac<br>\n",
    "print(front_back('a')) -->\n",
    "a<br>\n",
    "print(front_back('ab')) -->\n",
    "ba<br>"
   ]
  },
  {
   "cell_type": "code",
   "execution_count": 7,
   "metadata": {},
   "outputs": [
    {
     "name": "stdout",
     "output_type": "stream",
     "text": [
      "oimbj\n"
     ]
    }
   ],
   "source": [
    "Strword = \"jimbo\"\n",
    "\n",
    "def front_back(word):\n",
    "    templist = list(word)\n",
    "    new_templist = []\n",
    "    new_templist.insert(0, templist[-1])\n",
    "    new_templist.insert(-1, templist[0])\n",
    "    templist[0] = new_templist[-1]\n",
    "    templist[-1] = new_templist[0]\n",
    "    return \"\".join(templist)\n",
    "    \n",
    "print(front_back(Strword))"
   ]
  },
  {
   "cell_type": "markdown",
   "metadata": {},
   "source": [
    "## Assignment - 4 (Missing Char)\n",
    "Given a non-empty string and an int n, return a new string where the character at index n has been removed. The value of n will be a valid index of a character in the original string (i.e. n will be in the range 0....len(str)-1 inclusive). <br>\n",
    "For example:<br>\n",
    "\n",
    "Test\tResult<br>\n",
    "print(missing_char('kitchen', 1))\n",
    "ktchen<br>\n",
    "print(missing_char('kitchen', 0))\n",
    "itchen<br>\n",
    "print(missing_char('kitchen', 4))\n",
    "kitcen<br>"
   ]
  },
  {
   "cell_type": "code",
   "execution_count": 23,
   "metadata": {},
   "outputs": [
    {
     "name": "stdout",
     "output_type": "stream",
     "text": [
      "kitche\n"
     ]
    }
   ],
   "source": [
    "def missing_char(word, n) :\n",
    "    templist = list(word)\n",
    "    templist.remove(templist[n])\n",
    "    return \"\".join(templist)\n",
    "print(missing_char(\"kitchen\", -1))"
   ]
  },
  {
   "cell_type": "markdown",
   "metadata": {},
   "source": [
    "## Assignment - 011/08 (Letter Count)\n",
    "Count the number of each letter in a sentence. <br>\n",
    "The department you work for undertook a project construction that makes word / text analysis. You are asked to calculate the number of letters or any chars in the sentences entered under this project.<br>\n",
    "Write a Python program that;<br>\n",
    "takes a sentence from the user,\n",
    "counts the number of each letter/chars of the sentence,<br>\n",
    "collects the letters/chars as a key and the counted numbers as a value in a dictionary.<br>\n",
    "<br>\n",
    "Examples<br>\n",
    "Sample inputs\tOutputs<br>\n",
    "hippo runs to us!\t<br>\n",
    "{'s': 2, 'r': 1, 't': 1, 'h': 1, 'n': 1, \n",
    "'i': 1, 'u': 2, 'o': 2, 'p': 2, ' ': 3, '!': 1}"
   ]
  },
  {
   "cell_type": "code",
   "execution_count": 2,
   "metadata": {},
   "outputs": [],
   "source": [
    "def diction(x) :\n",
    "    countlist = list()\n",
    "    setlist = list()\n",
    "    for i in set(x) : \n",
    "        countlist.append(x.count(i))\n",
    "        setlist.append(i)\n",
    "    countdict = dict(zip(setlist, countlist))\n",
    "    print(countdict)"
   ]
  },
  {
   "cell_type": "code",
   "execution_count": 3,
   "metadata": {},
   "outputs": [
    {
     "name": "stdout",
     "output_type": "stream",
     "text": [
      "{'B': 1, 'z': 1, 'l': 2, '2': 1, 'c': 1, ' ': 7, 'y': 3, 'm': 1, 'g': 1, 'e': 1, 'i': 4, 'r': 2, 'a': 4, 'u': 6, 'o': 3, '.': 2, 'h': 1, 'k': 3, 'n': 5, 's': 3}\n"
     ]
    }
   ],
   "source": [
    "ornek = \"Bugun cok huzunluyum. ayrilik yakin. 2 seasion sonra\"\n",
    "\n",
    "diction(ornek)"
   ]
  },
  {
   "cell_type": "markdown",
   "metadata": {},
   "source": [
    "## Assignment - 011/07 (Fizz - Buzz Numbers)\n",
    "Task : Print the Fizz Buzz numbers. <br>\n",
    "\n",
    "Fizz Buzz is a famous code challenge used in interviews to test basic programming skills. It's time to write your own implementation.<br>\n",
    "Print numbers from 1 to 100 inclusively following these instructions:<br>\n",
    "<li>if a number is multiple of 3, print \"Fizz\" instead of this number,<br>\n",
    "<li>if a number is multiple of 5, print \"Buzz\" instead of this number,<br>\n",
    "<li>for numbers that are multiples of both 3 and 5, print \"FizzBuzz\",<br>\n",
    "<li>print the rest of the numbers unchanged.<br>\n",
    "Output each value on a separate line.<br>\n",
    "Note that : This question is famous on the web, so to get more benefit from this assignment, try to complete this task on your own."
   ]
  },
  {
   "cell_type": "code",
   "execution_count": 30,
   "metadata": {},
   "outputs": [],
   "source": [
    "numb = 200\n",
    "while not numb <= 100 and not numb >= 1 :   \n",
    "    numb = int(input(\"write a number from 1 to 100\"))"
   ]
  },
  {
   "cell_type": "code",
   "execution_count": null,
   "metadata": {},
   "outputs": [],
   "source": []
  }
 ],
 "metadata": {
  "interpreter": {
   "hash": "63920ba7671579ad71e295679b81bc9a31ee6f053c6b33fd8df75406924f51a0"
  },
  "kernelspec": {
   "display_name": "Python 3.7.4 ('base')",
   "language": "python",
   "name": "python3"
  },
  "language_info": {
   "codemirror_mode": {
    "name": "ipython",
    "version": 3
   },
   "file_extension": ".py",
   "mimetype": "text/x-python",
   "name": "python",
   "nbconvert_exporter": "python",
   "pygments_lexer": "ipython3",
   "version": "3.7.4"
  },
  "orig_nbformat": 4
 },
 "nbformat": 4,
 "nbformat_minor": 2
}
