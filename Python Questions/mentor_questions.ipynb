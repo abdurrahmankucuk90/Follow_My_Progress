{
 "cells": [
  {
   "cell_type": "code",
   "execution_count": 5,
   "metadata": {},
   "outputs": [
    {
     "name": "stdout",
     "output_type": "stream",
     "text": [
      "Maximum avarage belongs to Student-4\n",
      "70.2\n",
      "Minimum avarage belongs to Student-1\n",
      "65.4\n"
     ]
    }
   ],
   "source": [
    "# Write a Python code that find the students who have maximum and minimum average at below. \n",
    "\n",
    "grades = {'Student-1': {'Lesson-1': 57, 'Lesson-2': 46, 'Lesson-3': 58, 'Lesson-4': 81, 'Lesson-5': 85}, \n",
    "        'Student-2': {'Lesson-1': 85, 'Lesson-2': 56, 'Lesson-3': 51, 'Lesson-4': 69, 'Lesson-5': 67}, \n",
    "        'Student-3': {'Lesson-1': 68, 'Lesson-2': 76, 'Lesson-3': 87, 'Lesson-4': 57, 'Lesson-5': 56}, \n",
    "        'Student-4': {'Lesson-1': 78, 'Lesson-2': 93, 'Lesson-3': 88, 'Lesson-4': 38, 'Lesson-5': 54}, \n",
    "        'Student-5': {'Lesson-1': 50, 'Lesson-2': 46, 'Lesson-3': 78, 'Lesson-4': 81, 'Lesson-5': 75}}\n",
    "\n",
    "\n",
    "avarage_S1 = (grades[\"Student-1\"][\"Lesson-1\"] + grades[\"Student-1\"][\"Lesson-2\"] + grades[\"Student-1\"][\"Lesson-3\"] \\\n",
    "    + grades[\"Student-1\"][\"Lesson-4\"] + grades[\"Student-1\"][\"Lesson-5\"]) / (len(grades[\"Student-1\"]))\n",
    "\n",
    "avarage_S2 = (grades[\"Student-2\"][\"Lesson-1\"] + grades[\"Student-2\"][\"Lesson-2\"] + grades[\"Student-2\"][\"Lesson-3\"] \\\n",
    "    + grades[\"Student-2\"][\"Lesson-4\"] + grades[\"Student-2\"][\"Lesson-5\"]) / (len(grades[\"Student-2\"]))\n",
    "\n",
    "avarage_S3 = (grades[\"Student-3\"][\"Lesson-1\"] + grades[\"Student-3\"][\"Lesson-2\"] + grades[\"Student-3\"][\"Lesson-3\"] \\\n",
    "    + grades[\"Student-3\"][\"Lesson-4\"] + grades[\"Student-3\"][\"Lesson-5\"]) / (len(grades[\"Student-3\"]))\n",
    "\n",
    "avarage_S4 = (grades[\"Student-4\"][\"Lesson-1\"] + grades[\"Student-4\"][\"Lesson-2\"] + grades[\"Student-4\"][\"Lesson-3\"] \\\n",
    "    + grades[\"Student-4\"][\"Lesson-4\"] + grades[\"Student-4\"][\"Lesson-5\"]) / (len(grades[\"Student-4\"]))\n",
    "\n",
    "avarage_S5 = (grades[\"Student-5\"][\"Lesson-1\"] + grades[\"Student-5\"][\"Lesson-2\"] + grades[\"Student-5\"][\"Lesson-3\"] \\\n",
    "    + grades[\"Student-5\"][\"Lesson-4\"] + grades[\"Student-5\"][\"Lesson-5\"]) / (len(grades[\"Student-5\"]))\n",
    "\n",
    "dict_student_grade = {\"Student-1\" : avarage_S1, \"Student-2\" : avarage_S2, \"Student-3\" : avarage_S3, \\\n",
    "    \"Student-4\" : avarage_S4, \"Student-5\" : avarage_S5}\n",
    "\n",
    "max_average_student = max(dict_student_grade, key = dict_student_grade.get)\n",
    "\n",
    "print(\"Maximum avarage belongs to\", max_average_student)\n",
    "\n",
    "max_grade = max(dict_student_grade.values())\n",
    "\n",
    "print(max_grade)\n",
    "\n",
    "min_average_student = min(dict_student_grade, key = dict_student_grade.get)\n",
    "\n",
    "print(\"Minimum avarage belongs to\", min_average_student)\n",
    "\n",
    "min_grade = min(dict_student_grade.values())\n",
    "\n",
    "print(min_grade)\n"
   ]
  },
  {
   "cell_type": "code",
   "execution_count": 1,
   "metadata": {},
   "outputs": [
    {
     "name": "stdout",
     "output_type": "stream",
     "text": [
      "{1: 10, 2: 20, 3: 30, 4: 40, 5: 50, 6: 60}\n"
     ]
    },
    {
     "data": {
      "text/plain": [
       "dict"
      ]
     },
     "execution_count": 1,
     "metadata": {},
     "output_type": "execute_result"
    }
   ],
   "source": [
    "# Write a Python script to concatenate following dictionaries to create a new one.\n",
    "# Sample Dictionary :\n",
    "dic1={1:10, 2:20}\n",
    "dic2={3:30, 4:40}\n",
    "dic3={5:50,6:60}\n",
    "# Expected Result : {1: 10, 2: 20, 3: 30, 4: 40, 5: 50, 6: 60}\n",
    "new_dict = dict()\n",
    "new_dict.update(dic1)\n",
    "new_dict.update(dic2)\n",
    "new_dict.update(dic3)\n",
    "print(new_dict)\n",
    "\n",
    "g = {}\n",
    "type(g)"
   ]
  },
  {
   "cell_type": "code",
   "execution_count": 2,
   "metadata": {},
   "outputs": [
    {
     "data": {
      "text/plain": [
       "'7568 sec is equal to 2 hour(s), 6 minutes, 8 seconds.'"
      ]
     },
     "execution_count": 2,
     "metadata": {},
     "output_type": "execute_result"
    }
   ],
   "source": [
    "# benim çözümüm\n",
    "total_seconds = int(input(\"How many seconds to calculate?(bigger than 3600 pls):\"))\n",
    "\n",
    "hours = total_seconds // 3600\n",
    "minutes = (total_seconds % 3600) // 60\n",
    "seconds = (total_seconds % 60)\n",
    "\n",
    "f\"{total_seconds} sec is equal to {hours} hour(s), {minutes} minutes, {seconds} seconds.\""
   ]
  },
  {
   "cell_type": "markdown",
   "metadata": {},
   "source": [
    "The provided code stub reads two integers from STDIN,  and .add code to print three lines where:\n",
    "The first line contains the sum of the two numbers.\n",
    "The second line contains the difference of the two numbers (first - second).\n",
    "The third line contains the product of the two numbers.\n",
    "\n",
    "Example\n",
    "a = 3\n",
    "b = 5\n",
    "Print the following:\n",
    "8\n",
    "-2\n",
    "15\n",
    "Input Format\n",
    "The first line contains the first integer, .\n",
    "The second line contains the second integer, ."
   ]
  },
  {
   "cell_type": "code",
   "execution_count": 1,
   "metadata": {},
   "outputs": [
    {
     "name": "stdout",
     "output_type": "stream",
     "text": [
      "here is your sum 15\n",
      "here is your difference -1\n",
      "here is your product 56\n"
     ]
    }
   ],
   "source": [
    "a = int(input(\"pls, input a number:\"))\n",
    "b = int(input(\"pls, input second number:\"))\n",
    "\n",
    "print(\"here is your sum\", a+b)\n",
    "print(\"here is your difference\", a-b)\n",
    "print(\"here is your product\", a*b)\n"
   ]
  },
  {
   "cell_type": "markdown",
   "metadata": {},
   "source": [
    "Merhaba arkadaşlar,: eksikliklerimiz kapatacağımız öğrendiklerimiiz pekiştireceğimiz hafta başladı hepinize bol çalışmalar dilerim. Sizin için kolay bir soru paylaşıyorum kolay gelsin... (çözerken döngü kullanmayalım)\n",
    "Given a list, right rotate the list by n position.\n",
    "Write a program to shift every element of a list to circularly right.\n",
    "Example =\n",
    "num = int(input(\"\"))   3 seçtim örneğin\n",
    "liste = [1, 2, 3, 4, 5, 6]\n",
    "görüldüğü üzere sayılar 3 basamak sağa doğru kaydı\n",
    "Output = [4, 5, 6, 1, 2, 3]"
   ]
  },
  {
   "cell_type": "code",
   "execution_count": 13,
   "metadata": {},
   "outputs": [
    {
     "name": "stdout",
     "output_type": "stream",
     "text": [
      "[3, 4, 5, 6, 1, 2]\n"
     ]
    }
   ],
   "source": [
    "liste = [1, 2, 3, 4, 5, 6]\n",
    "n_pos_switch_right = int(input(\"How many position switch to right?:\")) % len(liste) # yüksek sayı girildiğinde hata vermemesi için\n",
    "shifted_liste = liste[n_pos_switch_right:] + liste[:n_pos_switch_right]\n",
    "print(shifted_liste)\n"
   ]
  },
  {
   "cell_type": "code",
   "execution_count": 28,
   "metadata": {},
   "outputs": [
    {
     "name": "stdout",
     "output_type": "stream",
     "text": [
      "[11, 12, 1, 2, 3, 4, 5, 6, 7, 8, 9, 10]\n"
     ]
    }
   ],
   "source": [
    "given_list = [1, 2, 3, 4, 5, 6, 7, 8, 9, 10, 11, 12]\n",
    "n = int(input('Please enter a number to rotate the list by n position; n = ')) % len(given_list)  # % sonradan ekledim.\n",
    "temp_list1 = given_list[0:n] # create a temporary list by 'slicing' method.\n",
    "new_rotated_list = given_list[n:] # create another (temporary) list by 'slicing' method.\n",
    "new_rotated_list.extend(temp_list1) # now combine both temporary list by 'list.extend' method\n",
    "print(new_rotated_list)"
   ]
  },
  {
   "cell_type": "markdown",
   "metadata": {},
   "source": [
    "Merhaba Arkadaşlar:\n",
    "Günün anlam ve önemine uygun size bir python sorusu kolay gelsin....\n",
    "Write a Python program to get a string from a given string where all occurrences of its first *char have been changed to '$', except the first char itself\n",
    "Sample String : 'restart'\n",
    "Expected Result : 'resta$t' (edited) "
   ]
  },
  {
   "cell_type": "code",
   "execution_count": 45,
   "metadata": {},
   "outputs": [
    {
     "name": "stdout",
     "output_type": "stream",
     "text": [
      "an$k$r$l$r\n"
     ]
    }
   ],
   "source": [
    "string = input(\"write a string includes a few same characters:\")\n",
    "first_char = string[0]\n",
    "print(string.title().replace(first_char, \"$\").lower())\n",
    "\n"
   ]
  },
  {
   "cell_type": "code",
   "execution_count": 21,
   "metadata": {},
   "outputs": [
    {
     "name": "stdout",
     "output_type": "stream",
     "text": [
      "j$gf$f$gfjf$j\n",
      "jhgf$f$gfjf$j\n"
     ]
    },
    {
     "ename": "AttributeError",
     "evalue": "type object 'list' has no attribute 'replace'",
     "output_type": "error",
     "traceback": [
      "\u001b[1;31m---------------------------------------------------------------------------\u001b[0m",
      "\u001b[1;31mAttributeError\u001b[0m                            Traceback (most recent call last)",
      "\u001b[1;32mc:\\Users\\Sadullah TANRIKULU\\Desktop\\VScode_python_docs\\mentor_questions.ipynb Cell 11'\u001b[0m in \u001b[0;36m<module>\u001b[1;34m\u001b[0m\n\u001b[0;32m      <a href='vscode-notebook-cell:/c%3A/Users/Sadullah%20TANRIKULU/Desktop/VScode_python_docs/mentor_questions.ipynb#ch0000010?line=6'>7</a>\u001b[0m newest_string \u001b[39m=\u001b[39m new_string\u001b[39m.\u001b[39mreplace(new_string[\u001b[39m4\u001b[39m], fourth_char, \u001b[39m1\u001b[39m)  \u001b[39m# replace metodunda count kısmı kullanımı\u001b[39;00m\n\u001b[0;32m      <a href='vscode-notebook-cell:/c%3A/Users/Sadullah%20TANRIKULU/Desktop/VScode_python_docs/mentor_questions.ipynb#ch0000010?line=7'>8</a>\u001b[0m \u001b[39mprint\u001b[39m(newest_string)\n\u001b[1;32m----> <a href='vscode-notebook-cell:/c%3A/Users/Sadullah%20TANRIKULU/Desktop/VScode_python_docs/mentor_questions.ipynb#ch0000010?line=8'>9</a>\u001b[0m help(\u001b[39mlist\u001b[39;49m\u001b[39m.\u001b[39;49mreplace)\n",
      "\u001b[1;31mAttributeError\u001b[0m: type object 'list' has no attribute 'replace'"
     ]
    }
   ],
   "source": [
    "string = input(\"string:\")\n",
    "fourth_char = string[4]\n",
    "new_string = string.replace(fourth_char, \"$\")\n",
    "print(new_string)\n",
    "\n",
    "\n",
    "newest_string = new_string.replace(new_string[4], fourth_char, 1)  # replace metodunda count kısmı kullanımı\n",
    "print(newest_string)\n"
   ]
  },
  {
   "cell_type": "code",
   "execution_count": 48,
   "metadata": {},
   "outputs": [
    {
     "name": "stdout",
     "output_type": "stream",
     "text": [
      "an$k$r$l$r\n"
     ]
    }
   ],
   "source": [
    "string = input(\"write a string includes a few same characters:\")\n",
    "newstring = string[0]+string[1::].replace(str(string[0]), \"$\")\n",
    "print(newstring)"
   ]
  },
  {
   "cell_type": "code",
   "execution_count": 49,
   "metadata": {},
   "outputs": [
    {
     "name": "stdout",
     "output_type": "stream",
     "text": [
      "an$k$r$l$r\n"
     ]
    }
   ],
   "source": [
    "string = input(\"write a string includes a few same characters:\")\n",
    "first_char = string[0]\n",
    "string = string.replace(first_char, \"$\")\n",
    "string = first_char + string[1::]\n",
    "print(string)"
   ]
  },
  {
   "cell_type": "code",
   "execution_count": 24,
   "metadata": {},
   "outputs": [
    {
     "name": "stdout",
     "output_type": "stream",
     "text": [
      "Help on method_descriptor:\n",
      "\n",
      "replace(self, old, new, count=-1, /)\n",
      "    Return a copy with all occurrences of substring old replaced by new.\n",
      "    \n",
      "      count\n",
      "        Maximum number of occurrences to replace.\n",
      "        -1 (the default value) means replace all occurrences.\n",
      "    \n",
      "    If the optional argument count is given, only the first count occurrences are\n",
      "    replaced.\n",
      "\n"
     ]
    }
   ],
   "source": [
    "help(str.replace)"
   ]
  },
  {
   "cell_type": "code",
   "execution_count": 29,
   "metadata": {},
   "outputs": [
    {
     "name": "stdout",
     "output_type": "stream",
     "text": [
      "$n$k$r$l$r\n",
      "$n$k$r$l$r\n"
     ]
    }
   ],
   "source": [
    "word = str(input(\"write a string includes a few same characters:\"))\n",
    "n = int(input(\"input index number:\"))\n",
    "char = word[n]\n",
    "new_word = word.replace(char,\"$\")\n",
    "print(new_word)\n",
    "print(new_word[:n] + new_word[n:])"
   ]
  },
  {
   "cell_type": "markdown",
   "metadata": {},
   "source": [
    "Merhaba Arkadaşlar : sizlere güzel bir soru paylaşıyorum : şu ana kadar gördüğünüz konularla çözünüz lütfen if else for while  kullanmayınız: Google yapmadan kendiniz çözmeye çalışın:\n",
    "Write a program that takes a maximum two-digit (1-99) number from the user and finds the pronunciation of that number. For example:\n",
    "İnput:97\n",
    "Output:Doksan Yedi (edited) "
   ]
  },
  {
   "cell_type": "code",
   "execution_count": 35,
   "metadata": {},
   "outputs": [
    {
     "name": "stdout",
     "output_type": "stream",
     "text": [
      "16 Ten Six\n",
      "Read here (11-19) 16 Sixteen\n"
     ]
    }
   ],
   "source": [
    "two_digit_num = int(input(\"most two digit number:\"))\n",
    "ones_pronounciaiton_dict = {0 : \"\", 1 : \"One\", 2 : \"Two\", 3 : \"Three\", 4 : \"Four\", 5 : \"Five\",\\\n",
    "     6 : \"Six\", 7 : \"Seven\", 8 : \"Eight\", 9 : \"Nine\"}\n",
    "tens_pronounciation_dict = {0 : \"\", 1 : \"Ten\", 2 : \"Twenty\", 3 : \"Thirty\", 4 : \"Fourthy\", 5 : \"Fifty\",\\\n",
    "     6 : \"Sixty\", 7 : \"Seventy\", 8 : \"Eighty\", 9 : \"Ninety\"}\n",
    "\n",
    "tens_digit = two_digit_num // 10\n",
    "ones_digit = two_digit_num % 10\n",
    "print(two_digit_num, tens_pronounciation_dict[tens_digit] + \" \" + ones_pronounciaiton_dict[ones_digit])\n",
    "if two_digit_num == 11:\n",
    "    print(\"eleven\")\n",
    "elif two_digit_num == 12:\n",
    "    print(\"twelve\")\n",
    "else:\n",
    "    print(\"Read here (11-19)\", two_digit_num, tens_pronounciation_dict[ones_digit][0:4] + \"een\")"
   ]
  },
  {
   "cell_type": "code",
   "execution_count": 36,
   "metadata": {},
   "outputs": [
    {
     "name": "stdout",
     "output_type": "stream",
     "text": [
      "Enter your 2 digit number:  9\n",
      " Dokuz\n"
     ]
    }
   ],
   "source": [
    "sayı = int(input(\"Enter your 2 digit number: \"))\n",
    "sayı_birler = sayı%10\n",
    "sayı_onlar = sayı // 10\n",
    "birler = [\"\", \"Bir\", \"İki\", \"Üç\", \"Dört\", \"Beş\", \"Altı\", \"Yedi\", \"Sekiz\", \"Dokuz\"]\n",
    "onlar = [\"\", \"On\", \"Yirmi\", \"Otuz\", \"Kırk\", \"Elli\", \"Altmış\", \"Yetmiş\", \"Seksen\", \"Doksan\"]\n",
    "print(\"Enter your 2 digit number: \", sayı)\n",
    "print(onlar[int(sayı_onlar)], birler[int(sayı_birler)])"
   ]
  },
  {
   "cell_type": "markdown",
   "metadata": {},
   "source": [
    "s = \"5 2 3 6 6 5\" write a program that find the second highest value from that"
   ]
  },
  {
   "cell_type": "code",
   "execution_count": 38,
   "metadata": {},
   "outputs": [
    {
     "name": "stdout",
     "output_type": "stream",
     "text": [
      "['5', '2', '3', '6', '6', '5']\n",
      "{'5', '6', '3', '2'}\n",
      "['2', '3', '5', '6']\n",
      "5\n"
     ]
    }
   ],
   "source": [
    "s = \"5 2 3 6 6 5\"\n",
    "s = s.split()\n",
    "print(s)\n",
    "s = set(s)\n",
    "print(s)\n",
    "s = list(s)\n",
    "print(sorted(s))\n",
    "print(sorted(s)[-2])"
   ]
  },
  {
   "cell_type": "markdown",
   "metadata": {},
   "source": [
    "Merhaba arkadaşlar, bugün sizlere kolay bir soru yazıyorum iki dakika da yaparsınız :man-raising-hand:\n",
    "Write a program to check if a given string is a Palindrome. A palindrome reads same from front and back e.g.- aba, ccaacc, mom, etc.\n",
    "INPUT: aba\n",
    "OUTPUT: True\n",
    "INPUT: berlin\n",
    "OUTPUT: False"
   ]
  },
  {
   "cell_type": "code",
   "execution_count": 5,
   "metadata": {},
   "outputs": [
    {
     "name": "stdout",
     "output_type": "stream",
     "text": [
      "input word is abba\n",
      "['a', 'b', 'b', 'a']\n",
      "read from leading character: abba\n",
      "read from trailing character: abba\n",
      "Palindrome situation of word is True.\n"
     ]
    }
   ],
   "source": [
    "word = input(\"write a word, is it palindrome?:\")\n",
    "print(\"input word is\", word)\n",
    "letter_list = []\n",
    "letter_list.extend(word)\n",
    "print(letter_list)\n",
    "print(\"read from leading character:\", \"\".join(letter_list))\n",
    "print(\"read from trailing character:\", \"\".join(letter_list[::-1]))\n",
    "print(f\"Palindrome situation of word is {letter_list[::-1] == letter_list}.\")"
   ]
  },
  {
   "cell_type": "code",
   "execution_count": 12,
   "metadata": {},
   "outputs": [
    {
     "name": "stdout",
     "output_type": "stream",
     "text": [
      "Help on method_descriptor:\n",
      "\n",
      "join(self, iterable, /)\n",
      "    Concatenate any number of strings.\n",
      "    \n",
      "    The string whose method is called is inserted in between each given string.\n",
      "    The result is returned as a new string.\n",
      "    \n",
      "    Example: '.'.join(['ab', 'pq', 'rs']) -> 'ab.pq.rs'\n",
      "\n"
     ]
    }
   ],
   "source": [
    "help(str.join)"
   ]
  },
  {
   "cell_type": "code",
   "execution_count": 7,
   "metadata": {},
   "outputs": [
    {
     "data": {
      "text/plain": [
       "False"
      ]
     },
     "execution_count": 7,
     "metadata": {},
     "output_type": "execute_result"
    }
   ],
   "source": [
    "s = input()\n",
    "bool(s == s[::-1])"
   ]
  },
  {
   "cell_type": "code",
   "execution_count": 6,
   "metadata": {},
   "outputs": [
    {
     "name": "stdout",
     "output_type": "stream",
     "text": [
      "False\n"
     ]
    }
   ],
   "source": [
    "word = input(\"word:\")\n",
    "print(word.endswith(word[len(word)//2::-1]))  # kelimenin sonu aynı ise bool veren endswith ile yazdırıyor.\n"
   ]
  },
  {
   "cell_type": "code",
   "execution_count": 9,
   "metadata": {},
   "outputs": [
    {
     "name": "stdout",
     "output_type": "stream",
     "text": [
      "False\n"
     ]
    }
   ],
   "source": [
    "word_palindrome = str(input(\"Please write a word and learn is it palindrome :\"))\n",
    "if word_palindrome == word_palindrome[::-1] :\n",
    "    print(True)\n",
    "else :\n",
    "    print(False)"
   ]
  },
  {
   "cell_type": "code",
   "execution_count": 13,
   "metadata": {},
   "outputs": [
    {
     "data": {
      "text/plain": [
       "False"
      ]
     },
     "execution_count": 13,
     "metadata": {},
     "output_type": "execute_result"
    }
   ],
   "source": [
    "s = input()\n",
    "s == s[::-1] in s  # == veya != boolean sonuç verir"
   ]
  },
  {
   "cell_type": "markdown",
   "metadata": {},
   "source": [
    "Task : Let's say; you left a message in the past that prints a password you need. To see the password you wrote, you need to enter your name and the program should recognize you.\n",
    "Write a program that \n",
    "\n",
    "Takes the first name from the user and compares it to yours,\n",
    "Then if the name the user entered is the same as yours, print out such as : \"Hello, Joseph! The password is : W@12\",\n",
    "If the name the user entered is not the same as yours, print out such as : \"Hello, Amina! See you later.\""
   ]
  },
  {
   "cell_type": "code",
   "execution_count": 1,
   "metadata": {},
   "outputs": [
    {
     "name": "stdout",
     "output_type": "stream",
     "text": [
      "Hello, Abdurrahman! The password is :2wPoq\n"
     ]
    }
   ],
   "source": [
    "you_name = \"abdurrahman\"\n",
    "new_name = input(\"Write your name :\")\n",
    "passowrd = \"2wPoq\"\n",
    "if you_name.lower() == new_name.lower():\n",
    "  print(f\"Hello, {you_name.capitalize()}! The password is :{passowrd}\")\n",
    "else:\n",
    "  print(f\"Hello, {new_name.capitalize()}! See you later.\")"
   ]
  },
  {
   "cell_type": "markdown",
   "metadata": {},
   "source": [
    "Write samething with multiple names to check"
   ]
  },
  {
   "cell_type": "code",
   "execution_count": 6,
   "metadata": {},
   "outputs": [
    {
     "name": "stdout",
     "output_type": "stream",
     "text": [
      "Hi Senes! See you later.\n"
     ]
    }
   ],
   "source": [
    "names = [\"abdurrahman\", \"caner\", \"enes\", \"mehmet\", \"ali\"]\n",
    "inp_name = input(\"Write your name: \").lower()\n",
    "password = {\"abdurrahman\":\"2@Wpa\", \"caner\":\"Hbi_!\", \"enes\":\"5ttWen\", \"mehmet\":\"5lLet3\", \"ali\":\"Blkjst\"}\n",
    "if inp_name in names:\n",
    "   print(f\"Hi {inp_name}!, here is your password: {password.get(inp_name)}\")\n",
    "else:\n",
    "   print(f\"Hi {inp_name.capitalize()}! See you later.\")\n",
    "\n"
   ]
  },
  {
   "cell_type": "markdown",
   "metadata": {},
   "source": [
    "<h5> prompt user input --  ex. what would you like to drink ? </h5>\n",
    "<h5> prompt must show the status after every step. ex . drink selected. / drink prepared etc </h5>\n",
    "<h5> after every drink , machine should restart for next customer. </h5>\n",
    "<h5> set a key to turn off the program . ( ex. input : off ) </h5>\n",
    "<h5> if user enters report : machine should give the report of its status that include water level , coffee amount and milk amount. </h5>\n",
    "<h5> after user selection , machine should check whether there are enough resources .\n",
    "<h5> if every think okey , user should imput coins  , </h5>\n",
    "quarters = $0.25, dimes = $0.10, nickles = $0.05, pennies = $0.01\n",
    "ex. 7xquarters , 10xnickles ets.  after that it should calculate total and find the difference with requirence. </h5>\n",
    "<h5> Program should check the money input whether its enough or not. If user gives more than required , machine should pay back . </h5>\n",
    "<h5> after that machine should prepare the coffee and should update its resources. \n",
    "at the end it should give a output to user ex. \"you coffee is ready\"</h5>"
   ]
  },
  {
   "cell_type": "code",
   "execution_count": null,
   "metadata": {},
   "outputs": [],
   "source": [
    "coin_bag = {\"quarters\":0.25,\n",
    "            \"dimes\":0.10,\n",
    "            \"nickles\":0.05,\n",
    "            \"pennies\":0.01\n",
    "}\n",
    "drink_prices = {\"dark coffe\":2, \"mocca\":2.25, \"latte\":2.36, \"hot water\":0.7}\n",
    "cost_coins = [0]\n",
    "order_list = [0]\n",
    "total_price = []\n",
    "total_cost = []\n",
    "def coins_get():\n",
    "    new_coins = input(\"Input coins please: \")\n",
    "    amount_coin = int(input(\"How many?\"))\n",
    "    money = coin_bag.get(new_coins) * amount_coin\n",
    "    cost_coins.append(money)\n",
    "    amount_coin = 0\n",
    "def orders():\n",
    "    print(\"Here is the menu\", drink_prices.items())\n",
    "    order = input(\"What would like to get?\")\n",
    "    order_list.append(drink_prices.get(order))\n",
    "def money_cal():\n",
    "    print(sum(order_list))\n",
    "def cost_cal():\n",
    "    print(cost_coins)\n",
    "def return_money():\n",
    "    print(\"here is you change: \", sum(order_list) - sum(cost_coins))\n",
    "finish = \"y\"\n",
    "\n",
    "while True:\n",
    "    if finish != \"n\":\n",
    "        orders()\n",
    "        coins_get()\n",
    "        money_cal()\n",
    "        cost_cal()\n",
    "        finish = input(\"Would you like to buy more drinks?, y/n\")\n",
    "        print(order_list)\n",
    "        print(cost_coins)\n",
    "        net_amount = sum(cost_coins) - sum(order_list)\n",
    "    elif finish ==\"n\":\n",
    "        while net_amount != 0:\n",
    "            if net_amount <= 0:\n",
    "                print(f\"you money is {sum(cost_coins)}, please add more money\")\n",
    "                print(f\"you must pay {sum(order_list)}\")\n",
    "                coins_get()\n",
    "                net_amount = sum(cost_coins) - sum(order_list)\n",
    "            else:\n",
    "                print(\"Here is your change: \", net_amount)\n",
    "                net_amount = 0\n",
    "                break  \n",
    "    # elif finish == \"n\":\n",
    "    #     return_money()\n",
    "    else:\n",
    "        print(\"nice to meet you\")\n",
    "        break\n",
    "    # if finish == \"n\"\n",
    "\n",
    "       \n",
    "\n",
    "   \n",
    "\n",
    "\n",
    "    "
   ]
  },
  {
   "cell_type": "markdown",
   "metadata": {},
   "source": [
    "mail = \"mailto: Clarusway admission@clarusway.com, 6 Haz 2021 Paz, 21:08 tarihinde şunu yazdı:\"\n",
    "\n",
    "Write python code that outputs \"clarusway.com\" from the string in the \"mail\" variable.\n",
    "\n",
    "Expected Output: clarusway.com"
   ]
  },
  {
   "cell_type": "code",
   "execution_count": 14,
   "metadata": {},
   "outputs": [
    {
     "name": "stdout",
     "output_type": "stream",
     "text": [
      "clarusway.com\n",
      "clarusway.com\n"
     ]
    }
   ],
   "source": [
    "mail = \"mailto: Clarusway admission@clarusway.com, 6 Haz 2021 Paz, 21:08 tarihinde şunu yazdı:\"\n",
    "print(mail[28:41])\n",
    "print(mail[mail.find(\"@\") + 1: mail.find(\".com\")] + \".com\")"
   ]
  },
  {
   "cell_type": "code",
   "execution_count": 11,
   "metadata": {},
   "outputs": [
    {
     "name": "stdout",
     "output_type": "stream",
     "text": [
      "clarusway.com\n"
     ]
    }
   ],
   "source": [
    "x = mail.find(\"@\")\n",
    "print(mail[x+1:x+14])"
   ]
  },
  {
   "cell_type": "code",
   "execution_count": 8,
   "metadata": {},
   "outputs": [
    {
     "name": "stdout",
     "output_type": "stream",
     "text": [
      "Clay\n"
     ]
    }
   ],
   "source": [
    "word = input(\"write a word: \")\n",
    "if len(word) <= 2:\n",
    "    print(\"Empty String\")\n",
    "elif len(word) >= 2:\n",
    "    print(word[0:2]+word[-2:])"
   ]
  },
  {
   "cell_type": "code",
   "execution_count": 9,
   "metadata": {},
   "outputs": [
    {
     "name": "stdout",
     "output_type": "stream",
     "text": [
      "Clay\n"
     ]
    }
   ],
   "source": [
    "print(len(word) < 2 and \"Empty String\" or (word[:2] + word[-2:]))"
   ]
  },
  {
   "cell_type": "markdown",
   "metadata": {},
   "source": [
    "Given a function that accepts unlimited arguments, check and count how many data types are in those arguments. <br>\n",
    "Finally return the total in a list. <br>\n",
    "List order is: <br>\n",
    "[int, str, bool, list, tuple, dictionary] <br>\n",
    "Examples <br>\n",
    "[1, 45, \"Hi\", False] >>>> [2, 1, 1, 0, 0, 0] <br>\n",
    "[[10, 20], (\"t\", \"Ok\"), 2, 3, 1] >>>> [3, 0, 0, 1, 1, 0] <br>\n",
    "[\"Hello\", \"Bye\", True, True, False, {\"1\": \"One\", \"2\": \"Two\"}, [1, 3], {\"Brayan\": 18}, 25, 23]>>>> [2, 2, 3, 1, 0, 2] <br>\n",
    "[4, 21, (\"ES\", \"EN\"), (\"a\", \"b\"), False, [1, 2, 3], [4, 5, 6] ]>>>>> [2, 0, 1, 2, 2, 0] <br>"
   ]
  },
  {
   "cell_type": "code",
   "execution_count": 26,
   "metadata": {},
   "outputs": [
    {
     "name": "stdout",
     "output_type": "stream",
     "text": [
      "[1, 0, 0, 0, 0, 0, 0]\n"
     ]
    }
   ],
   "source": [
    "repeater = \"y\"\n",
    "counter = [0, 0, 0, 0, 0, 0]\n",
    "\n",
    "while repeater == \"y\":\n",
    "    random_genarator = input(\"Write any aerguments here: \")\n",
    "    \n",
    "    type_check = type(random_genarator)\n",
    "    if random_genarator.isdigit:\n",
    "        counter.insert(0, (counter[0] + 1))  \n",
    "    elif type_check == str:\n",
    "        counter.insert(1, (counter[1] + 1))  \n",
    "    elif type_check == bool:\n",
    "        counter.insert(2, (counter[2] + 1))  \n",
    "    elif type_check == list:\n",
    "        counter.insert(3, (counter[3] + 1))  \n",
    "    elif type_check == tuple:\n",
    "        counter.insert(4, (counter[4] + 1))  \n",
    "    elif type_check == dict:\n",
    "        counter.insert(5, (counter[5] + 1))\n",
    "    repeater = input(\"Would you like to add new argument (y/n)\").title().strip()\n",
    "print(counter)\n",
    "\n",
    "\n",
    "\n",
    "\n",
    "\n",
    "\n"
   ]
  },
  {
   "cell_type": "code",
   "execution_count": 37,
   "metadata": {},
   "outputs": [
    {
     "name": "stdout",
     "output_type": "stream",
     "text": [
      "there is a risk of death:  negative\n"
     ]
    }
   ],
   "source": [
    "age = (input(\"Are you a cigarette addict older than 75 years old ? (True or False) \")).title().strip()\n",
    "chronic = (input(\"Do you have a severe chronic disease? (True or False) \")).title().strip()\n",
    "immune = (input(\"Is your immune system too weak? (True or False) \")).title().strip()\n",
    "age_check = bool()\n",
    "chronic_check = bool()\n",
    "immune_check = bool()\n",
    "\n",
    "if age == \"False\":\n",
    "    age_check = False\n",
    "elif age == \"True\":\n",
    "    age_check = True\n",
    "if chronic == \"False\":\n",
    "    chronic_check = False\n",
    "elif chronic == \"True\":\n",
    "    chronic_check = True\n",
    "if immune == \"False\":\n",
    "    immune_check = False\n",
    "elif immune == \"True\":\n",
    "    immune_check = True\n",
    "\n",
    "\n",
    "if age_check == True:\n",
    "    risk = \"positive\"\n",
    "elif chronic_check == True:\n",
    "    risk = \"positive\"\n",
    "elif immune_check == True:\n",
    "    risk = \"positive\"\n",
    "else:\n",
    "    risk = \"negative\"\n",
    "\n",
    "print(\"there is a risk of death: \", risk)"
   ]
  },
  {
   "cell_type": "code",
   "execution_count": 2,
   "metadata": {},
   "outputs": [
    {
     "name": "stdout",
     "output_type": "stream",
     "text": [
      "You have low risk\n"
     ]
    }
   ],
   "source": [
    "age = (input(\"Are you a cigarette addict older than 75 years old ? (True or False) \")).title().strip() == \"True\"\n",
    "chronic = (input(\"Do you have a severe chronic disease? (True or False) \")).title().strip() == \"True\"\n",
    "immune = (input(\"Is your immune system too weak? (True or False) \")).title().strip() == \"True\"\n",
    "\n",
    "if age or chronic or immune:\n",
    "    print(\"you have high risk\")\n",
    "else:\n",
    "    print(\"You have low risk\")"
   ]
  },
  {
   "cell_type": "code",
   "execution_count": 6,
   "metadata": {},
   "outputs": [
    {
     "name": "stdout",
     "output_type": "stream",
     "text": [
      "{'abdurrahman': {'phone': 123, 'address': 'fals'}}\n"
     ]
    }
   ],
   "source": [
    "laborer = []\n",
    "information_list = []\n",
    "toplam = 0\n",
    "repeater = \"y\"\n",
    "while repeater == \"y\":\n",
    "\n",
    "    laborer.append(input(\"name:\"))\n",
    "    # phone = int(input(\"phone number\"))\n",
    "    # address = input(\"address pls.\")\n",
    "    information_list.append({\"phone\" : int(input(\"phone number\")), \"address\" : input(\"address pls.\")})\n",
    "    toplam += 1\n",
    "    repeater = input(\"(y/n)\").lower().strip()\n",
    "    \n",
    "\n",
    "Result = dict(zip(laborer, information_list))\n",
    "print(Result)"
   ]
  },
  {
   "cell_type": "code",
   "execution_count": 2,
   "metadata": {},
   "outputs": [
    {
     "name": "stdout",
     "output_type": "stream",
     "text": [
      "memur olabilirsin dersem inanma sinavsiz giriyorlar artik\n"
     ]
    }
   ],
   "source": [
    "kpds = (input(\"kpds notun 85 üzerinde mi?(True or False)\")).title().strip() == \"True\"\n",
    "ales = (input(\"ales notun 85 üzerinde mi?(True or False)\")).title().strip() == \"True\"\n",
    "yas = (input(\"yasin 32 nin altinda mi (True or False)\")).title().strip() == \"True\"\n",
    "if kpds and ales and yas :\n",
    "    print (\"memur olabilirsin dersem inanma sinavsiz giriyorlar artik\")\n",
    "else:\n",
    "    print(\"hacim fazla yorulma gel IT ye memuriyetten daha iyi\")"
   ]
  },
  {
   "cell_type": "code",
   "execution_count": 4,
   "metadata": {},
   "outputs": [
    {
     "name": "stdout",
     "output_type": "stream",
     "text": [
      "benim\n"
     ]
    }
   ],
   "source": [
    "print(\"benim\".strip())"
   ]
  },
  {
   "cell_type": "markdown",
   "metadata": {},
   "source": [
    "Make a solution that takes a list of numbers or strings and returns a list with the items from the original list stored into sublists. Items of the same value should be in the same sublist. <br>\n",
    "Examples [2, 1, 2, 1] ➞ [[2, 2], [1, 1]],<br>\n",
    "[5, 4, 5, 5, 4, 3] ➞ [[5, 5, 5], [4, 4], [3]],<br>\n",
    "[\"b\", \"a\", \"b\", \"a\", \"c\"] ➞ [[\"b\", \"b\"], [\"a\", \"a\"], [\"c\"]]<br>\n",
    "Notes The sublists should be returned in the order of each element's first appearance in the given list."
   ]
  },
  {
   "cell_type": "code",
   "execution_count": 8,
   "metadata": {},
   "outputs": [
    {
     "name": "stdout",
     "output_type": "stream",
     "text": [
      "[['33'], ['444'], ['5'], ['66'], ['2']]\n"
     ]
    }
   ],
   "source": [
    "list_num = [3,4,5,6,6,3,2,4,4]\n",
    "temp_list = []\n",
    "bos = []\n",
    "list_num.count(list_num[0])\n",
    "for j in list_num:\n",
    "    if j in temp_list:\n",
    "        continue\n",
    "    else:\n",
    "        temp_list.append(j)\n",
    "for i in temp_list:\n",
    "    bosluk = [str(i) * list_num.count(i)]\n",
    "    bos.append(bosluk)\n",
    "print(bos)"
   ]
  },
  {
   "cell_type": "markdown",
   "metadata": {},
   "source": [
    "Write a function for Floyd's triangle of n rows in Python, you need to ask from user to enter the number of rows or lines up to which.\n",
    "Sample run of program, with user input 10 as number of rows, is shown in the snapshot given below:\n",
    "(fonksiyonu floyd diye tanımladım ve 10 satırlık bir  üçgen elde ettik"
   ]
  },
  {
   "cell_type": "code",
   "execution_count": 24,
   "metadata": {},
   "outputs": [
    {
     "name": "stdout",
     "output_type": "stream",
     "text": [
      "[1]\n",
      "[2, 3]\n",
      "[4, 5, 6]\n",
      "[7, 8, 9, 10]\n",
      "[11, 12, 13, 14, 15]\n",
      "[16, 17, 18, 19, 20, 21]\n",
      "[22, 23, 24, 25, 26, 27, 28]\n",
      "[29, 30, 31, 32, 33, 34, 35, 36]\n",
      "[37, 38, 39, 40, 41, 42, 43, 44, 45]\n",
      "[46, 47, 48, 49, 50, 51, 52, 53, 54, 55]\n"
     ]
    }
   ],
   "source": [
    "\n",
    "\n",
    "def floyd(num):\n",
    "    counter = 1\n",
    "    n = 0\n",
    "    a = []\n",
    "    for i in range(1, num+1):\n",
    "        while True:\n",
    "            if n < i:\n",
    "                a.append(counter)            \n",
    "                counter += 1\n",
    "                n +=1\n",
    "            elif n == i:\n",
    "                print(a)\n",
    "                a.clear()\n",
    "                n = 0\n",
    "                break\n",
    "\n",
    "floyd(10)\n",
    "\n",
    "\n",
    "\n",
    "            \n"
   ]
  },
  {
   "cell_type": "markdown",
   "metadata": {},
   "source": [
    "Problem : <br>\n",
    "Given a collection of distinct integers, return all possible permutations. <br>\n",
    "Example: <br>\n",
    "Input: [1,2,3] <br>\n",
    "Output: <br>\n",
    "[ <br>\n",
    "  [1,2,3], <br>\n",
    "  [1,3,2], <br>\n",
    "  [2,1,3], <br>\n",
    "  [2,3,1], <br>\n",
    "  [3,1,2], <br>\n",
    "  [3,2,1] <br>\n",
    "] <br>\n",
    "Yukardaki üç elemanlı bir örnektir. Sorunun çözümü eleman sayısından bağımsız olmalıdır. 2 elemanlı 4 elemanlı gibi.."
   ]
  },
  {
   "cell_type": "code",
   "execution_count": null,
   "metadata": {},
   "outputs": [],
   "source": [
    "number = [1,2,3]\n",
    "number1 = [1,2,3]\n",
    "all_numbers = []\n",
    "repeater = \"y\"\n",
    "a = []\n",
    "b = 0\n",
    "\n",
    "# while repeater != \"n\":\n",
    "#     a = input(\"Write a digit of number or letter\")\n",
    "#     number.append(a)\n",
    "#     repeater = input(\"y/n\")\n",
    "#     number1.copy(number)\n",
    "# for i in range(len(number)**2):\n",
    "#     all_numbers.append(number)\n",
    "#     for i in range(len(number)):\n",
    "#         for j in range(-1, -len(number), -1):\n",
    "#             number[i], number[j] = number[j-1], number[i-1]\n",
    "#         number1 = number.copy()\n",
    "\n",
    "   \n",
    "# print(all_numbers)\n",
    "\n",
    "# def mixer(lnum):\n",
    "    \n",
    "#     for i in lnum:\n",
    "#         a.append(i)\n",
    "#     for j in range(len(a)**2):\n",
    "#         for i in range(len(a)):\n",
    "#             lnum.append(a[i])\n",
    "#             lnum.remove(lnum[i])\n",
    "#         all_numbers.append(lnum)\n",
    "#     print(all_numbers)\n",
    "\n",
    "# mixer(number)\n",
    "\n",
    "def findcomb(*list):\n",
    "    if len(list) == 2:\n",
    "        return 2\n",
    "    if len(list) == 3:\n",
    "        return 6\n",
    "    if len(list) == 4:\n",
    "        return 24\n",
    "\n",
    "\n",
    "\n",
    "\n",
    "\n",
    "        \n",
    "\n",
    "\n",
    "\n",
    "\n",
    "    "
   ]
  },
  {
   "cell_type": "code",
   "execution_count": 34,
   "metadata": {},
   "outputs": [],
   "source": [
    "solution = [[]]\n",
    "\n",
    "# solution-1 = [[1], [2], [3]]\n",
    "# solution-2 = [[1, 2], [1, 3], [2, 1], [2, 3], [3, 1], [3,2]]\n",
    "# solution-3 = [[1, 2, 3], [1, 3, 2], [2, 1, 3], [2, 3, 1], [3, 1, 2], [3, 2, 1]]\n"
   ]
  },
  {
   "cell_type": "code",
   "execution_count": 26,
   "metadata": {},
   "outputs": [
    {
     "name": "stdout",
     "output_type": "stream",
     "text": [
      "[]\n"
     ]
    }
   ],
   "source": [
    "for i in solution :\n",
    "    print(i)"
   ]
  },
  {
   "cell_type": "code",
   "execution_count": 3,
   "metadata": {},
   "outputs": [
    {
     "data": {
      "text/plain": [
       "1"
      ]
     },
     "execution_count": 3,
     "metadata": {},
     "output_type": "execute_result"
    }
   ],
   "source": [
    "len(solution)"
   ]
  },
  {
   "cell_type": "code",
   "execution_count": 33,
   "metadata": {},
   "outputs": [],
   "source": [
    "num = [1, 2, 3]"
   ]
  },
  {
   "cell_type": "code",
   "execution_count": 28,
   "metadata": {},
   "outputs": [
    {
     "data": {
      "text/plain": [
       "{1, 2, 3}"
      ]
     },
     "execution_count": 28,
     "metadata": {},
     "output_type": "execute_result"
    }
   ],
   "source": [
    "num_set = set(num)\n",
    "num_set"
   ]
  },
  {
   "cell_type": "code",
   "execution_count": 29,
   "metadata": {},
   "outputs": [
    {
     "data": {
      "text/plain": [
       "set()"
      ]
     },
     "execution_count": 29,
     "metadata": {},
     "output_type": "execute_result"
    }
   ],
   "source": [
    "set([])"
   ]
  },
  {
   "cell_type": "code",
   "execution_count": 30,
   "metadata": {},
   "outputs": [
    {
     "data": {
      "text/plain": [
       "set()"
      ]
     },
     "execution_count": 30,
     "metadata": {},
     "output_type": "execute_result"
    }
   ],
   "source": [
    "set_bos_list = set([])\n",
    "set_bos_list"
   ]
  },
  {
   "cell_type": "code",
   "execution_count": 8,
   "metadata": {},
   "outputs": [
    {
     "data": {
      "text/plain": [
       "{1, 2, 3}"
      ]
     },
     "execution_count": 8,
     "metadata": {},
     "output_type": "execute_result"
    }
   ],
   "source": [
    "num_set"
   ]
  },
  {
   "cell_type": "code",
   "execution_count": 9,
   "metadata": {},
   "outputs": [
    {
     "data": {
      "text/plain": [
       "True"
      ]
     },
     "execution_count": 9,
     "metadata": {},
     "output_type": "execute_result"
    }
   ],
   "source": [
    "num_set - set_bos_list == num_set"
   ]
  },
  {
   "cell_type": "code",
   "execution_count": null,
   "metadata": {},
   "outputs": [],
   "source": [
    "num_set - set([1])"
   ]
  },
  {
   "cell_type": "code",
   "execution_count": 10,
   "metadata": {},
   "outputs": [
    {
     "data": {
      "text/plain": [
       "{1, 3}"
      ]
     },
     "execution_count": 10,
     "metadata": {},
     "output_type": "execute_result"
    }
   ],
   "source": [
    "num_set - set([2])"
   ]
  },
  {
   "cell_type": "code",
   "execution_count": 11,
   "metadata": {},
   "outputs": [
    {
     "data": {
      "text/plain": [
       "{3}"
      ]
     },
     "execution_count": 11,
     "metadata": {},
     "output_type": "execute_result"
    }
   ],
   "source": [
    "num_set - set([1,2])"
   ]
  },
  {
   "cell_type": "code",
   "execution_count": 13,
   "metadata": {},
   "outputs": [
    {
     "data": {
      "text/plain": [
       "{3}"
      ]
     },
     "execution_count": 13,
     "metadata": {},
     "output_type": "execute_result"
    }
   ],
   "source": [
    "num_set - set([1] + [2])"
   ]
  },
  {
   "cell_type": "code",
   "execution_count": 15,
   "metadata": {},
   "outputs": [
    {
     "data": {
      "text/plain": [
       "[[0], [1], [2]]"
      ]
     },
     "execution_count": 15,
     "metadata": {},
     "output_type": "execute_result"
    }
   ],
   "source": [
    "[[i] for i in range(3)]"
   ]
  },
  {
   "cell_type": "code",
   "execution_count": 17,
   "metadata": {},
   "outputs": [
    {
     "data": {
      "text/plain": [
       "[[0, 'a'], [1, 'a'], [4, 'a']]"
      ]
     },
     "execution_count": 17,
     "metadata": {},
     "output_type": "execute_result"
    }
   ],
   "source": [
    "[[i ** 2] + [\"a\"] for i in range(3)]"
   ]
  },
  {
   "cell_type": "code",
   "execution_count": 40,
   "metadata": {},
   "outputs": [
    {
     "name": "stdout",
     "output_type": "stream",
     "text": [
      "[[1], [2], [3], [4]]\n",
      "[[1, 2], [1, 3], [1, 4], [2, 1], [2, 3], [2, 4], [3, 1], [3, 2], [3, 4], [4, 1], [4, 2], [4, 3]]\n",
      "[[1, 2, 3], [1, 2, 4], [1, 3, 2], [1, 3, 4], [1, 4, 2], [1, 4, 3], [2, 1, 3], [2, 1, 4], [2, 3, 1], [2, 3, 4], [2, 4, 1], [2, 4, 3], [3, 1, 2], [3, 1, 4], [3, 2, 1], [3, 2, 4], [3, 4, 1], [3, 4, 2], [4, 1, 2], [4, 1, 3], [4, 2, 1], [4, 2, 3], [4, 3, 1], [4, 3, 2]]\n",
      "[[1, 2, 3, 4], [1, 2, 4, 3], [1, 3, 2, 4], [1, 3, 4, 2], [1, 4, 2, 3], [1, 4, 3, 2], [2, 1, 3, 4], [2, 1, 4, 3], [2, 3, 1, 4], [2, 3, 4, 1], [2, 4, 1, 3], [2, 4, 3, 1], [3, 1, 2, 4], [3, 1, 4, 2], [3, 2, 1, 4], [3, 2, 4, 1], [3, 4, 1, 2], [3, 4, 2, 1], [4, 1, 2, 3], [4, 1, 3, 2], [4, 2, 1, 3], [4, 2, 3, 1], [4, 3, 1, 2], [4, 3, 2, 1]]\n"
     ]
    }
   ],
   "source": [
    "solution = [[]]\n",
    "num = [1, 2, 3, 4]\n",
    "num_set = set(num)\n",
    "\n",
    "for index in range(len(num)) :\n",
    "\n",
    "    solution = [i + [j] for i in solution for j in num_set.difference(set(i))]\n",
    "    print(solution)"
   ]
  },
  {
   "cell_type": "code",
   "execution_count": 42,
   "metadata": {},
   "outputs": [],
   "source": [
    "import smtplib as smtp"
   ]
  },
  {
   "cell_type": "code",
   "execution_count": null,
   "metadata": {},
   "outputs": [],
   "source": [
    "# server = smtp.SMTP(\"smtp.gmail.com\", 587)\n",
    "# server.starttls()\n",
    "\n",
    "# server.login(abdurrahmankucuk90, password)\n",
    "# message = \"\\n Bu benim son dersim. Herkese selam olsun. Gorusmek uzere \\n\"\n",
    "# message must be consist of english characters\n",
    "# dusuk guvenlik seviyesine indirmek gerekiyor google accountunu\n",
    "\n",
    "#server.sendmail(\"abdurrahmankucuk90@gmail.com\", \"username@gmail.com\")\n",
    "# server.quit()"
   ]
  },
  {
   "cell_type": "code",
   "execution_count": null,
   "metadata": {},
   "outputs": [],
   "source": []
  },
  {
   "cell_type": "code",
   "execution_count": null,
   "metadata": {},
   "outputs": [],
   "source": []
  },
  {
   "cell_type": "code",
   "execution_count": null,
   "metadata": {},
   "outputs": [],
   "source": []
  },
  {
   "cell_type": "code",
   "execution_count": null,
   "metadata": {},
   "outputs": [],
   "source": []
  },
  {
   "cell_type": "code",
   "execution_count": null,
   "metadata": {},
   "outputs": [],
   "source": []
  },
  {
   "cell_type": "markdown",
   "metadata": {},
   "source": [
    "Fill in the blanks indicated by ... to create a lambda function that multiplies each item in the number_list by 3. <br>\n",
    "(Note: In order to print the result, convert it into the list type.) <br>\n",
    "\n",
    "number_list=[1, 2, 3, 4, 5] <br>\n",
    "For example: <br>\n",
    " <br>\n",
    "Test\tResult <br>\n",
    "print(result) <br>\n",
    "[3, 6, 9, 12, 15]"
   ]
  },
  {
   "cell_type": "code",
   "execution_count": 6,
   "metadata": {},
   "outputs": [
    {
     "name": "stdout",
     "output_type": "stream",
     "text": [
      "[3, 6, 9, 12, 15]\n"
     ]
    }
   ],
   "source": [
    "number_list=[1, 2, 3, 4, 5]\n",
    "\n",
    "result = list(map(lambda x: x * 3, number_list))\n",
    "print(result)"
   ]
  },
  {
   "cell_type": "markdown",
   "metadata": {},
   "source": [
    "## Josephus permutation\n",
    "Merhaba Arkadaşlar :man-raising-hand: sizlere bahar ayının ilk pazarında güzel bir python sorusu kolay gele.... <br>\n",
    "In this kata you have to correctly return who is the \"survivor\", ie: the last element of a Josephus permutation.<br>\n",
    "Basically you have to assume that n people are put into a circle and that they are eliminated in steps of k elements, like this:<br>\n",
    "josephus_survivor(7,3) => means 7 people in a circle;<br>\n",
    "one every 3 is eliminated until one remains<br>\n",
    "[1,2,3,4,5,6,7] - initial sequence<br>\n",
    "[1,2,4,5,6,7] => 3 is counted out<br>\n",
    "[1,2,4,5,7] => 6 is counted out<br>\n",
    "[1,4,5,7] => 2 is counted out<br>\n",
    "[1,4,5] => 7 is counted out<br>\n",
    "[1,4] => 5 is counted out<br>\n",
    "[4] => 1 counted out, 4 is the last element - the survivor!"
   ]
  },
  {
   "cell_type": "code",
   "execution_count": 3,
   "metadata": {},
   "outputs": [
    {
     "ename": "IndexError",
     "evalue": "pop index out of range",
     "output_type": "error",
     "traceback": [
      "\u001b[1;31m---------------------------------------------------------------------------\u001b[0m",
      "\u001b[1;31mIndexError\u001b[0m                                Traceback (most recent call last)",
      "\u001b[1;32m<ipython-input-3-c030c0e84f7d>\u001b[0m in \u001b[0;36m<module>\u001b[1;34m\u001b[0m\n\u001b[0;32m     17\u001b[0m                 \u001b[0mprint\u001b[0m\u001b[1;33m(\u001b[0m\u001b[1;34mf\"{x} is survivor\"\u001b[0m\u001b[1;33m)\u001b[0m\u001b[1;33m\u001b[0m\u001b[1;33m\u001b[0m\u001b[0m\n\u001b[0;32m     18\u001b[0m \u001b[1;33m\u001b[0m\u001b[0m\n\u001b[1;32m---> 19\u001b[1;33m \u001b[0mjosephus_survivor\u001b[0m\u001b[1;33m(\u001b[0m\u001b[0mnumb_list\u001b[0m\u001b[1;33m)\u001b[0m\u001b[1;33m\u001b[0m\u001b[1;33m\u001b[0m\u001b[0m\n\u001b[0m\u001b[0;32m     20\u001b[0m \u001b[1;33m\u001b[0m\u001b[0m\n\u001b[0;32m     21\u001b[0m \u001b[1;33m\u001b[0m\u001b[0m\n",
      "\u001b[1;32m<ipython-input-3-c030c0e84f7d>\u001b[0m in \u001b[0;36mjosephus_survivor\u001b[1;34m(x)\u001b[0m\n\u001b[0;32m      7\u001b[0m             \u001b[1;32mif\u001b[0m \u001b[0mlen\u001b[0m\u001b[1;33m(\u001b[0m\u001b[0mx\u001b[0m\u001b[1;33m)\u001b[0m \u001b[1;33m>\u001b[0m \u001b[1;36m1\u001b[0m \u001b[1;33m:\u001b[0m\u001b[1;33m\u001b[0m\u001b[1;33m\u001b[0m\u001b[0m\n\u001b[0;32m      8\u001b[0m                 \u001b[1;32mif\u001b[0m \u001b[0mi\u001b[0m \u001b[1;33m<\u001b[0m \u001b[1;33m(\u001b[0m\u001b[0mlen\u001b[0m\u001b[1;33m(\u001b[0m\u001b[0mx\u001b[0m\u001b[1;33m)\u001b[0m \u001b[1;33m-\u001b[0m\u001b[1;36m1\u001b[0m\u001b[1;33m)\u001b[0m \u001b[1;33m:\u001b[0m\u001b[1;33m\u001b[0m\u001b[1;33m\u001b[0m\u001b[0m\n\u001b[1;32m----> 9\u001b[1;33m                     \u001b[0mx\u001b[0m\u001b[1;33m.\u001b[0m\u001b[0mpop\u001b[0m\u001b[1;33m(\u001b[0m\u001b[0mx\u001b[0m\u001b[1;33m[\u001b[0m\u001b[0mi\u001b[0m\u001b[1;33m+\u001b[0m\u001b[1;36m2\u001b[0m\u001b[1;33m]\u001b[0m\u001b[1;33m)\u001b[0m\u001b[1;33m\u001b[0m\u001b[1;33m\u001b[0m\u001b[0m\n\u001b[0m\u001b[0;32m     10\u001b[0m                 \u001b[1;32melif\u001b[0m \u001b[0mx\u001b[0m \u001b[1;33m==\u001b[0m \u001b[1;33m(\u001b[0m\u001b[0mlen\u001b[0m\u001b[1;33m(\u001b[0m\u001b[0mx\u001b[0m\u001b[1;33m)\u001b[0m \u001b[1;33m-\u001b[0m\u001b[1;36m1\u001b[0m\u001b[1;33m)\u001b[0m \u001b[1;33m:\u001b[0m\u001b[1;33m\u001b[0m\u001b[1;33m\u001b[0m\u001b[0m\n\u001b[0;32m     11\u001b[0m \u001b[1;33m\u001b[0m\u001b[0m\n",
      "\u001b[1;31mIndexError\u001b[0m: pop index out of range"
     ]
    }
   ],
   "source": [
    "\n",
    "numb_list = [1,2,3,4,5,6,7]\n",
    "\n",
    "def josephus_survivor (x) :\n",
    "    location = 0\n",
    "    while len(x) > 1 :\n",
    "        for i in range(len(x)) :\n",
    "            if len(x) > 1 :\n",
    "                if i < (len(x) -1) :\n",
    "                    x.pop(x[i+2])\n",
    "                elif x == (len(x) -1) :\n",
    "                \n",
    "                    x.pop(x[0])\n",
    "                elif x == (len(x)) :\n",
    "                \n",
    "                    x.pop(x[1])\n",
    "            elif len(x) == 1:\n",
    "                print(f\"{x} is survivor\")\n",
    "\n",
    "josephus_survivor(numb_list)\n",
    "\n",
    "\n",
    "\n",
    "\n"
   ]
  },
  {
   "cell_type": "code",
   "execution_count": null,
   "metadata": {},
   "outputs": [],
   "source": []
  }
 ],
 "metadata": {
  "interpreter": {
   "hash": "8f4a6391e1b416e87673bf8c434effa0344087e493d9d0bc28a0b378216aa186"
  },
  "kernelspec": {
   "display_name": "Python 3.10.2 64-bit",
   "language": "python",
   "name": "python3"
  },
  "language_info": {
   "codemirror_mode": {
    "name": "ipython",
    "version": 3
   },
   "file_extension": ".py",
   "mimetype": "text/x-python",
   "name": "python",
   "nbconvert_exporter": "python",
   "pygments_lexer": "ipython3",
   "version": "3.7.4"
  },
  "orig_nbformat": 4
 },
 "nbformat": 4,
 "nbformat_minor": 2
}
