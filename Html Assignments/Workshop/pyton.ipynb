{
 "cells": [
  {
   "cell_type": "code",
   "execution_count": 39,
   "metadata": {},
   "outputs": [
    {
     "name": "stdout",
     "output_type": "stream",
     "text": [
      "Player #1 hits\n",
      "Player #2 hits\n",
      "Player #1 hits\n",
      "Player #2 hits\n",
      "Player #1 hits\n",
      "Player #2 hits\n",
      "Player #1 hits\n",
      "Player #2 hits\n",
      "Player #1 hits\n",
      "Player #2 hits\n",
      "Player #1 hits\n",
      "Player #2 hits\n",
      "Player #1 hits\n",
      "Player #2 hits\n",
      "Player #1 hits\n",
      "Player #2 hits\n",
      "Player #1 hits\n",
      "player #2 hits and knocks out!\n",
      "Game over!!!\n"
     ]
    }
   ],
   "source": [
    "import random\n",
    "player = 0\n",
    "\n",
    "while player == 0:\n",
    "    for i in range(1, 3):\n",
    "        x = random.randint(1, 100)\n",
    "        if x <= 10:\n",
    "            print('player #{} hits and knocks out!'.format(i))\n",
    "            print('Game over!!!')\n",
    "            player = 1\n",
    "            break\n",
    "        else:\n",
    "            print(f'Player #{i} hits')\n",
    "\n"
   ]
  },
  {
   "cell_type": "code",
   "execution_count": 17,
   "metadata": {},
   "outputs": [
    {
     "name": "stdout",
     "output_type": "stream",
     "text": [
      "Player #2 hits\n",
      "Player #1 hits\n",
      "Player #1 hits\n",
      "Player #2 hits\n",
      "Player #2 hits\n",
      "Player #1 hits\n",
      "Player #1 hits\n",
      "Player #2 hits\n",
      "Player #1 hits\n",
      "player #2 hits and knocks out!\n",
      "Game over!!!\n"
     ]
    }
   ],
   "source": [
    "import random\n",
    "player = [1,2]\n",
    "counter = 0\n",
    "\n",
    "while counter == 0:\n",
    "    random.shuffle(player)\n",
    "    for i in player:\n",
    "        x = random.randint(1, 100)\n",
    "        if x <= 10:\n",
    "            print('player #{} hits and knocks out!'.format(i))\n",
    "            print('Game over!!!')\n",
    "            counter = 1\n",
    "            break\n",
    "        else:\n",
    "            print(f'Player #{i} hits')\n",
    "\n"
   ]
  },
  {
   "cell_type": "code",
   "execution_count": 23,
   "metadata": {},
   "outputs": [
    {
     "name": "stdout",
     "output_type": "stream",
     "text": [
      "Player #1 hits\n",
      "Player #1 hits\n",
      "Player #2 hits\n",
      "player #1 hits and knocks out!\n",
      "Game over!!!\n"
     ]
    }
   ],
   "source": [
    "import random\n",
    "player = [1,2]\n",
    "counter = 0\n",
    "\n",
    "while counter == 0:\n",
    "    random.shuffle(player)\n",
    "    for i in player:\n",
    "        x = random.randint(1, 100)\n",
    "        if x <= 10:\n",
    "            print('player #{} hits and knocks out!'.format(i))\n",
    "            print('Game over!!!')\n",
    "            counter = 1\n",
    "            break\n",
    "        else:\n",
    "            print(f'Player #{i} hits')\n"
   ]
  },
  {
   "cell_type": "code",
   "execution_count": 26,
   "metadata": {},
   "outputs": [
    {
     "name": "stdout",
     "output_type": "stream",
     "text": [
      "Player #2 hits\n",
      "Player #1 hits\n",
      "Player #2 hits\n",
      "Player #1 hits\n",
      "player #2 hits and knocks out!\n",
      "Game over!!!\n"
     ]
    }
   ],
   "source": [
    "import random\n",
    "player = 0\n",
    "random_player = random.randint(0,1)\n",
    "# print(random_player)\n",
    "while player == 0:\n",
    "  if player == random_player:\n",
    "    for i in range(1, 3):\n",
    "        x = random.randint(1, 100)\n",
    "        if x <= 10:\n",
    "            print('player #{} hits and knocks out!'.format(i))\n",
    "            print('Game over!!!')\n",
    "            player = 1\n",
    "            break\n",
    "        else:\n",
    "            print(f'Player #{i} hits')\n",
    "  else:\n",
    "    for i in range(2, 0, -1):\n",
    "        x = random.randint(1, 100)\n",
    "        if x <= 10:\n",
    "            print('player #{} hits and knocks out!'.format(i))\n",
    "            print('Game over!!!')\n",
    "            player = 1\n",
    "            break\n",
    "        else:\n",
    "            print(f'Player #{i} hits')"
   ]
  },
  {
   "cell_type": "code",
   "execution_count": 63,
   "metadata": {},
   "outputs": [
    {
     "name": "stdout",
     "output_type": "stream",
     "text": [
      "Player #2 hits\n",
      "Player #1 hits\n",
      "Player #2 hits\n",
      "Player #1 hits\n",
      "Player #2 hits\n",
      "Player #1 hits\n",
      "Player #2 hits\n",
      "Player #1 hits\n",
      "Player #2 hits\n",
      "Player #1 hits\n",
      "Player #2 hits\n",
      "Player #1 hits\n",
      "Player #2 hits\n",
      "player #1 hits and knocks out!\n",
      "Game over!!!\n"
     ]
    }
   ],
   "source": [
    "import random\n",
    "def starter(a,b,c):\n",
    "  player = 0\n",
    "  while player == 0:\n",
    "    for i in range(a,b,c):\n",
    "          x = random.randint(1, 100)\n",
    "          if x <= 10:\n",
    "              print('player #{} hits and knocks out!'.format(i))\n",
    "              print('Game over!!!')\n",
    "              player = 1\n",
    "              break\n",
    "          else:\n",
    "              print(f'Player #{i} hits')\n",
    "random_player = random.randint(0,1)\n",
    "# print(random_player)\n",
    "\n",
    "if player == random_player:\n",
    "  starter(1, 3, 1)\n",
    "else:\n",
    "  starter(2, 0, -1)"
   ]
  }
 ],
 "metadata": {
  "interpreter": {
   "hash": "63920ba7671579ad71e295679b81bc9a31ee6f053c6b33fd8df75406924f51a0"
  },
  "kernelspec": {
   "display_name": "Python 3.7.4 ('base')",
   "language": "python",
   "name": "python3"
  },
  "language_info": {
   "codemirror_mode": {
    "name": "ipython",
    "version": 3
   },
   "file_extension": ".py",
   "mimetype": "text/x-python",
   "name": "python",
   "nbconvert_exporter": "python",
   "pygments_lexer": "ipython3",
   "version": "3.7.4"
  },
  "orig_nbformat": 4
 },
 "nbformat": 4,
 "nbformat_minor": 2
}
