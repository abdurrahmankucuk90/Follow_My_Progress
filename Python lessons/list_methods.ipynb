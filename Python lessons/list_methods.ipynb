{
 "cells": [
  {
   "cell_type": "code",
   "execution_count": 9,
   "id": "ff334ea5",
   "metadata": {},
   "outputs": [
    {
     "name": "stdout",
     "output_type": "stream",
     "text": [
      "heavyrisk: False\n",
      "lightrisk: True\n"
     ]
    }
   ],
   "source": [
    "age = int(input(\"Are you a cigarette addict older than 75 years old?(1 or 0):\"))\n",
    "chronic = int(input(\"Do you have a severe chronic disease?(1 or 0):\"))\n",
    "immune = int(input(\"Is your immune system too weak?(1 or 0):\"))\n",
    "heavyrisk = age and chronic and immune\n",
    "lightrisk = age or chronic or immune\n",
    "print(\"heavyrisk:\", bool(heavyrisk))\n",
    "print(\"lightrisk:\", bool(lightrisk))"
   ]
  },
  {
   "cell_type": "code",
   "execution_count": 2,
   "id": "6a77225e",
   "metadata": {},
   "outputs": [
    {
     "name": "stdout",
     "output_type": "stream",
     "text": [
      "True\n"
     ]
    }
   ],
   "source": [
    "age = int(input(\"Are you a cigarette addict older than 75 years old?(If 'yes' press 1, 'no' press 0)\"))\n",
    "chronic =int(input(\"Do you have a severe chronic disease?(If 'yes' press 1, 'no' press 0)\"))\n",
    "immune = int(input(\"Is your immune system too weak?(If 'yes' press 1, 'no' press 0)\"))\n",
    "risk = bool(age) and bool(chronic) and bool(immune)\n",
    "print(risk)"
   ]
  },
  {
   "cell_type": "code",
   "execution_count": 2,
   "id": "21db2f77",
   "metadata": {},
   "outputs": [
    {
     "name": "stdout",
     "output_type": "stream",
     "text": [
      "\n",
      "If the result is \"True\", that means you are potentially under severe high risk\n",
      "of death due to coronavirus.  Please take your precautions vigorously!\n",
      "If the result is \"False\", even so, please keep your precautions strictly!  \n",
      "We wish a healthy and wealthy life to all! :)\n",
      "\n",
      "*****    True    *****\n"
     ]
    }
   ],
   "source": [
    "age = int(input(\"What's your age? (Age is essential) \"))\n",
    "addiction = (input(\"Do you smoke? (write 'yes' if you're smoking otherwise \\\n",
    "just click enter) \"))\n",
    "immune = (input(\"Is your immune system weak? (write 'yes' if you're smoking \\\n",
    "otherwise just click enter) \"))\n",
    "chronic = (input(\"Do you have a severe chronic disease? (write 'yes' if you're \\\n",
    "smoking otherwise just click enter) \"))\n",
    "age = (age // 75)\n",
    "risk = bool(age) and bool(addiction) or bool(immune) or bool(chronic)\n",
    "print(\"\"\"\n",
    "If the result is \"True\", that means you are potentially under severe high risk\n",
    "of death due to coronavirus.  Please take your precautions vigorously!\n",
    "If the result is \"False\", even so, please keep your precautions strictly!  \n",
    "We wish a healthy and wealthy life to all! :)\n",
    "\"\"\"\n",
    ")\n",
    "print(\"*****   \", risk, \"   *****\")"
   ]
  },
  {
   "cell_type": "code",
   "execution_count": 4,
   "id": "a6390506",
   "metadata": {},
   "outputs": [
    {
     "name": "stdout",
     "output_type": "stream",
     "text": [
      "0\n"
     ]
    }
   ],
   "source": [
    "greeting = \"nasıl gidiyorbn\"\n",
    "len(greeting)\n",
    "age = 30//75\n",
    "print(age)"
   ]
  },
  {
   "cell_type": "code",
   "execution_count": 13,
   "id": "5ffbc806",
   "metadata": {},
   "outputs": [
    {
     "data": {
      "text/plain": [
       "list"
      ]
     },
     "execution_count": 13,
     "metadata": {},
     "output_type": "execute_result"
    }
   ],
   "source": [
    "animals = [\"cat\", \"dog\", \"scorpion\", \"spider\", \"bat\", \"elephant\", \"eagle\", \"hawk\"]\n",
    "type(animals)"
   ]
  },
  {
   "cell_type": "code",
   "execution_count": 14,
   "id": "77a9b0cf",
   "metadata": {},
   "outputs": [
    {
     "data": {
      "text/plain": [
       "['cat', 'dog', 'scorpion', 'spider', 'bat', 'elephant', 'eagle', 'hawk']"
      ]
     },
     "execution_count": 14,
     "metadata": {},
     "output_type": "execute_result"
    }
   ],
   "source": [
    "list(animals)"
   ]
  },
  {
   "cell_type": "code",
   "execution_count": 15,
   "id": "7e5a29a2",
   "metadata": {},
   "outputs": [
    {
     "name": "stdout",
     "output_type": "stream",
     "text": [
      "['cat', 'dog', 'scorpion', 'spider', 'bat', 'elephant', 'eagle', 'hawk']\n"
     ]
    }
   ],
   "source": [
    "print(animals)"
   ]
  },
  {
   "cell_type": "code",
   "execution_count": 6,
   "id": "75f4d187",
   "metadata": {},
   "outputs": [
    {
     "name": "stdout",
     "output_type": "stream",
     "text": [
      "22\n",
      "['Y', 'o', 'u', ' ', 'm', 'u', 's', 't', ' ', 'q', 'u', 'i', 't', ' ', 's', 'm', 'o', 'k', 'i', 'n', 'g', '!']\n"
     ]
    }
   ],
   "source": [
    "warning = 'You must quit smoking!'  # immutable olduğu için değişmez\n",
    "print(len(list(warning)))\n",
    "print(list(warning))"
   ]
  },
  {
   "cell_type": "code",
   "execution_count": 20,
   "id": "c9d8382e",
   "metadata": {},
   "outputs": [
    {
     "name": "stdout",
     "output_type": "stream",
     "text": [
      "[24, 'benim forma numaramdır']\n"
     ]
    }
   ],
   "source": [
    "empty_list_1 = []\n",
    "empty_list_1.append(24)\n",
    "empty_list_1.append(\"benim forma numaramdır\")\n",
    "print(empty_list_1)"
   ]
  },
  {
   "cell_type": "code",
   "execution_count": 7,
   "id": "422480ac",
   "metadata": {},
   "outputs": [
    {
     "name": "stdout",
     "output_type": "stream",
     "text": [
      "1\n",
      "['rose', 'valentine', 'daisy', 'Daffodil', 'snapdragon', 'violet']\n"
     ]
    }
   ],
   "source": [
    "blossoms = [\"rose\", \"daisy\", \"Daffodil\", \"snapdragon\", \"violet\"]\n",
    "print(blossoms.count(\"rose\"))\n",
    "blossoms.insert(1, \"valentine\")\n",
    "print(blossoms)"
   ]
  },
  {
   "cell_type": "code",
   "execution_count": 13,
   "id": "caaae221",
   "metadata": {},
   "outputs": [
    {
     "name": "stdout",
     "output_type": "stream",
     "text": [
      "['violet', 'valentine', 'snapdragon', 'rose', 'daisy', 'Daffodil']\n"
     ]
    }
   ],
   "source": [
    "blossoms.sort(reverse=True)\n",
    "print(blossoms)"
   ]
  },
  {
   "cell_type": "code",
   "execution_count": 24,
   "id": "a6018d41",
   "metadata": {},
   "outputs": [
    {
     "data": {
      "text/plain": [
       "['!',\n",
       " 'g',\n",
       " 'i',\n",
       " 'i',\n",
       " 'k',\n",
       " 'm',\n",
       " 'm',\n",
       " 'n',\n",
       " 'o',\n",
       " 'o',\n",
       " 'q',\n",
       " 's',\n",
       " 's',\n",
       " 't',\n",
       " 't',\n",
       " 'u',\n",
       " 'u',\n",
       " 'u',\n",
       " 'y',\n",
       " 'ğ']"
      ]
     },
     "execution_count": 24,
     "metadata": {},
     "output_type": "execute_result"
    }
   ],
   "source": [
    "mesela = [\"ali\", \"11\", \"veli\", \"deli\"]\n",
    "cumle = ['y', 'o', 'u', 'm', 'u', 's', 't', 'q', 'u', 'ğ', 'i', 't', 's', 'm', 'o', 'k', 'i', 'n', 'g', '!']\n",
    "sorted(cumle)"
   ]
  },
  {
   "cell_type": "code",
   "execution_count": 26,
   "id": "4c46031d",
   "metadata": {},
   "outputs": [
    {
     "data": {
      "text/plain": [
       "'a'"
      ]
     },
     "execution_count": 26,
     "metadata": {},
     "output_type": "execute_result"
    }
   ],
   "source": [
    "len(mesela)\n",
    "ord(\"a\")\n",
    "chr(97)"
   ]
  },
  {
   "cell_type": "code",
   "execution_count": 33,
   "id": "fc901f24",
   "metadata": {},
   "outputs": [
    {
     "name": "stdout",
     "output_type": "stream",
     "text": [
      "[[1, 2, 4], 'veli', 'deli']\n"
     ]
    },
    {
     "ename": "NameError",
     "evalue": "name 'mesela' is not defined",
     "output_type": "error",
     "traceback": [
      "\u001b[1;31m---------------------------------------------------------------------------\u001b[0m",
      "\u001b[1;31mNameError\u001b[0m                                 Traceback (most recent call last)",
      "\u001b[1;32mc:\\Users\\Sadullah TANRIKULU\\Desktop\\VScode_python_docs\\list_methods.ipynb Cell 14'\u001b[0m in \u001b[0;36m<module>\u001b[1;34m\u001b[0m\n\u001b[0;32m      <a href='vscode-notebook-cell:/c%3A/Users/Sadullah%20TANRIKULU/Desktop/VScode_python_docs/list_methods.ipynb#ch0000013?line=2'>3</a>\u001b[0m \u001b[39mprint\u001b[39m(mesela)\n\u001b[0;32m      <a href='vscode-notebook-cell:/c%3A/Users/Sadullah%20TANRIKULU/Desktop/VScode_python_docs/list_methods.ipynb#ch0000013?line=3'>4</a>\u001b[0m \u001b[39mdel\u001b[39;00m mesela\n\u001b[1;32m----> <a href='vscode-notebook-cell:/c%3A/Users/Sadullah%20TANRIKULU/Desktop/VScode_python_docs/list_methods.ipynb#ch0000013?line=4'>5</a>\u001b[0m mesela\n",
      "\u001b[1;31mNameError\u001b[0m: name 'mesela' is not defined"
     ]
    }
   ],
   "source": [
    "mesela = [[1, 2, 4], \"11\", \"veli\", \"deli\"]\n",
    "mesela.remove(\"11\")\n",
    "print(mesela)\n",
    "del mesela\n",
    "mesela"
   ]
  },
  {
   "cell_type": "code",
   "execution_count": 43,
   "id": "e2de584b",
   "metadata": {},
   "outputs": [
    {
     "data": {
      "text/plain": [
       "[False, 'ali', 11, ['veli', ['deli']]]"
      ]
     },
     "execution_count": 43,
     "metadata": {},
     "output_type": "execute_result"
    }
   ],
   "source": [
    "mesela"
   ]
  },
  {
   "cell_type": "code",
   "execution_count": 46,
   "id": "fb0e7f39",
   "metadata": {},
   "outputs": [],
   "source": [
    "a = [1, 2, 3, 4]\n",
    "a.insert(9, 5)"
   ]
  },
  {
   "cell_type": "code",
   "execution_count": 47,
   "id": "2c0613c6",
   "metadata": {},
   "outputs": [
    {
     "data": {
      "text/plain": [
       "[1, 2, 3, 4, 5]"
      ]
     },
     "execution_count": 47,
     "metadata": {},
     "output_type": "execute_result"
    }
   ],
   "source": [
    "a"
   ]
  },
  {
   "cell_type": "code",
   "execution_count": 48,
   "id": "8f6eebdd",
   "metadata": {},
   "outputs": [],
   "source": [
    "a.insert(8, 6)"
   ]
  },
  {
   "cell_type": "code",
   "execution_count": 49,
   "id": "aec59fcb",
   "metadata": {},
   "outputs": [
    {
     "data": {
      "text/plain": [
       "[1, 2, 3, 4, 5, 6]"
      ]
     },
     "execution_count": 49,
     "metadata": {},
     "output_type": "execute_result"
    }
   ],
   "source": [
    "a"
   ]
  },
  {
   "cell_type": "code",
   "execution_count": 37,
   "id": "68614b1f",
   "metadata": {},
   "outputs": [
    {
     "data": {
      "text/plain": [
       "['butterfly', 'cat', 'scorpion', 'snake', 'tiger']"
      ]
     },
     "execution_count": 37,
     "metadata": {},
     "output_type": "execute_result"
    }
   ],
   "source": [
    "animal = [\"scorpion\", \"cat\", \"snake\", \"butterfly\", \"tiger\"]\n",
    "animal.sort()\n",
    "animal"
   ]
  },
  {
   "cell_type": "code",
   "execution_count": 72,
   "id": "6243ddd7",
   "metadata": {},
   "outputs": [
    {
     "data": {
      "text/plain": [
       "['butterfly', 'cat', 'scorpion', 'snake', 'tiger']"
      ]
     },
     "execution_count": 72,
     "metadata": {},
     "output_type": "execute_result"
    }
   ],
   "source": [
    "animal"
   ]
  },
  {
   "cell_type": "code",
   "execution_count": 56,
   "id": "855b114c",
   "metadata": {},
   "outputs": [],
   "source": [
    "\n",
    "\n",
    "mesela.remove(False)\n"
   ]
  },
  {
   "cell_type": "code",
   "execution_count": 58,
   "id": "d217dce6",
   "metadata": {},
   "outputs": [
    {
     "ename": "NameError",
     "evalue": "name 'deli' is not defined",
     "output_type": "error",
     "traceback": [
      "\u001b[1;31m---------------------------------------------------------------------------\u001b[0m",
      "\u001b[1;31mNameError\u001b[0m                                 Traceback (most recent call last)",
      "Input \u001b[1;32mIn [58]\u001b[0m, in \u001b[0;36m<module>\u001b[1;34m\u001b[0m\n\u001b[1;32m----> 1\u001b[0m mesela\u001b[38;5;241m.\u001b[39mremove([\u001b[43mdeli\u001b[49m])\n",
      "\u001b[1;31mNameError\u001b[0m: name 'deli' is not defined"
     ]
    }
   ],
   "source": [
    "mesela.remove([deli])"
   ]
  },
  {
   "cell_type": "code",
   "execution_count": 17,
   "id": "bb9cfebb",
   "metadata": {},
   "outputs": [
    {
     "name": "stdout",
     "output_type": "stream",
     "text": [
      "176\n",
      "68\n",
      "100\n"
     ]
    }
   ],
   "source": [
    "print(ord(\"°\"))\n",
    "print(ord(\"D\"))\n",
    "print(ord(\"d\"))"
   ]
  },
  {
   "cell_type": "code",
   "execution_count": 18,
   "id": "e2324a1b",
   "metadata": {},
   "outputs": [
    {
     "data": {
      "text/plain": [
       "'d'"
      ]
     },
     "execution_count": 18,
     "metadata": {},
     "output_type": "execute_result"
    }
   ],
   "source": [
    "ord(\"1\")\n",
    "chr(100)"
   ]
  },
  {
   "cell_type": "code",
   "execution_count": 63,
   "id": "deb61515",
   "metadata": {},
   "outputs": [],
   "source": [
    "c = [[2, 36, -5], [2, 25, -7]]\n",
    "c.sort()"
   ]
  },
  {
   "cell_type": "code",
   "execution_count": 64,
   "id": "681de5da",
   "metadata": {},
   "outputs": [
    {
     "data": {
      "text/plain": [
       "[[2, 25, -7], [2, 36, -5]]"
      ]
     },
     "execution_count": 64,
     "metadata": {},
     "output_type": "execute_result"
    }
   ],
   "source": [
    "c"
   ]
  },
  {
   "cell_type": "code",
   "execution_count": 21,
   "id": "9199443b",
   "metadata": {},
   "outputs": [
    {
     "name": "stdout",
     "output_type": "stream",
     "text": [
      "['cat', 'dog', 'eagle', 'elephant', 'hawk', 'scorpion', 'spider']\n"
     ]
    }
   ],
   "source": [
    "animals = [\"cat\", \"dog\", \"hawk\", \"eagle\", \"elephant\", \"spider\", \"scorpion\"]\n",
    "animals.sort()\n",
    "print(animals)"
   ]
  },
  {
   "cell_type": "code",
   "execution_count": 22,
   "id": "42606e27",
   "metadata": {},
   "outputs": [
    {
     "data": {
      "text/plain": [
       "1"
      ]
     },
     "execution_count": 22,
     "metadata": {},
     "output_type": "execute_result"
    }
   ],
   "source": [
    "animals.index(\"dog\")"
   ]
  },
  {
   "cell_type": "code",
   "execution_count": 11,
   "id": "c7a224f8",
   "metadata": {},
   "outputs": [],
   "source": [
    "animals.insert(1, \"crocodile\")"
   ]
  },
  {
   "cell_type": "code",
   "execution_count": 88,
   "id": "393d8fbd",
   "metadata": {},
   "outputs": [
    {
     "data": {
      "text/plain": [
       "['butterfly', 'cat', 'scorpion', 'snake', 'tiger']"
      ]
     },
     "execution_count": 88,
     "metadata": {},
     "output_type": "execute_result"
    }
   ],
   "source": [
    "animal"
   ]
  },
  {
   "cell_type": "code",
   "execution_count": 5,
   "id": "f025b3ef",
   "metadata": {},
   "outputs": [
    {
     "data": {
      "text/plain": [
       "1"
      ]
     },
     "execution_count": 5,
     "metadata": {},
     "output_type": "execute_result"
    }
   ],
   "source": [
    "number = [1, 3, 7, 4, 3, 0, 3, 6, 3]\n",
    "number.count(max(number))  # sort metoduyla çeşitleri gördük ve kolayca ayırt ettik\n"
   ]
  },
  {
   "cell_type": "code",
   "execution_count": 7,
   "id": "c4725056",
   "metadata": {},
   "outputs": [
    {
     "name": "stdout",
     "output_type": "stream",
     "text": [
      "0 is repeated : 1 times\n",
      "1 is repeated : 1 times\n",
      "3 is repeated : 4 times\n",
      "4 is repeated : 1 times\n",
      "6 is repeated : 1 times\n",
      "7 is repeated : 1 times\n",
      "The most frequent number is 3 and it was 4 times repeated.\n"
     ]
    }
   ],
   "source": [
    "print(f\"0 is repeated : {number.count(0)} times\")  # count metoduyla saydırıp kıyas ettik\n",
    "print(f\"1 is repeated : {number.count(1)} times\")\n",
    "print(f\"3 is repeated : {number.count(3)} times\")\n",
    "print(f\"4 is repeated : {number.count(4)} times\")\n",
    "print(f\"6 is repeated : {number.count(6)} times\")\n",
    "print(f\"7 is repeated : {number.count(7)} times\")\n",
    "print(f\"The most frequent number is 3 and it was {number.count(3)} times repeated.\")"
   ]
  },
  {
   "cell_type": "code",
   "execution_count": 36,
   "id": "45a2dc52",
   "metadata": {},
   "outputs": [
    {
     "name": "stdout",
     "output_type": "stream",
     "text": [
      "3\n",
      "4\n"
     ]
    }
   ],
   "source": [
    "numbers = [-1, 3, 4, 3, 0, 3, 16, 3, 7, 0, 7, 7, 7, 0, 1]\n",
    "print(max(numbers, key=numbers.count))\n",
    "print(numbers.count(max(numbers, key=numbers.count)))\n"
   ]
  },
  {
   "cell_type": "code",
   "execution_count": 9,
   "id": "c47c94f9",
   "metadata": {},
   "outputs": [
    {
     "data": {
      "text/plain": [
       "'Boş'"
      ]
     },
     "execution_count": 9,
     "metadata": {},
     "output_type": "execute_result"
    }
   ],
   "source": [
    "empty = []\n",
    "max(empty, default = \"Boş\")  # boş iterable ın max u alırken"
   ]
  },
  {
   "cell_type": "code",
   "execution_count": 51,
   "id": "852d1e69",
   "metadata": {},
   "outputs": [
    {
     "data": {
      "text/plain": [
       "4"
      ]
     },
     "execution_count": 51,
     "metadata": {},
     "output_type": "execute_result"
    }
   ],
   "source": [
    "sequence = [1, 1, 1, 1, 2, 2, 2, 3, 3, 4]\n",
    "max(sequence) \n",
    "sequence.count(1)\n"
   ]
  },
  {
   "cell_type": "code",
   "execution_count": 23,
   "id": "dcaf7c57",
   "metadata": {},
   "outputs": [
    {
     "name": "stdout",
     "output_type": "stream",
     "text": [
      "['van', 'ağrı', 'ankara', 'istanbul']\n"
     ]
    }
   ],
   "source": [
    "sehirler = [\"istanbul\", \"van\", \"ağrı\", \"ankara\"]\n",
    "print(sorted(sehirler, key=len, reverse=True))  # DİKKAT len kullanımı  default u küçükten büyüğe\n"
   ]
  },
  {
   "cell_type": "code",
   "execution_count": 1,
   "id": "1228c5e3",
   "metadata": {},
   "outputs": [
    {
     "name": "stdout",
     "output_type": "stream",
     "text": [
      "['dance', 'zebra', 'hi', 'how are you', 'apple', 'bye']\n"
     ]
    }
   ],
   "source": [
    "ex_lst = ['hi', 'how are you', 'bye', 'apple', 'zebra', 'dance']  # def li çözüm\n",
    "for i in ex_lst:\n",
    "    def second_let(i):\n",
    "        return i[1]\n",
    "    sorted_by_second_let = sorted(ex_lst, key=second_let)  # we sorted this list according to its second letter as a fantasy :).\n",
    "print(sorted_by_second_let)"
   ]
  },
  {
   "cell_type": "code",
   "execution_count": 21,
   "id": "e6dc2805",
   "metadata": {},
   "outputs": [
    {
     "data": {
      "text/plain": [
       "['dance', 'zebra', 'hi', 'how are you', 'apple', 'bye']"
      ]
     },
     "execution_count": 21,
     "metadata": {},
     "output_type": "execute_result"
    }
   ],
   "source": [
    "ex_lst = ['hi', 'how are you', 'bye', 'apple', 'zebra', 'dance']  # lambda lı çözüm\n",
    "sorted(ex_lst, key = lambda x : x[1] )"
   ]
  },
  {
   "cell_type": "code",
   "execution_count": 1,
   "id": "546413e2",
   "metadata": {},
   "outputs": [
    {
     "name": "stdout",
     "output_type": "stream",
     "text": [
      "['y', 'a', 'w', 's', 'u', 'r', 'a', 'l', 'c']\n",
      "yawsuralc\n"
     ]
    }
   ],
   "source": [
    "str = \"c l a r u s w a y\"\n",
    "str_to_lst = str.split()\n",
    "str_to_lst.reverse()  # bu satırda str_to_lst[::-1] de kullansak aynı işi yapar.\n",
    "print(str_to_lst)\n",
    "print(str_to_lst[0]+str_to_lst[1]+str_to_lst[2]+str_to_lst[3]+str_to_lst[4]+str_to_lst[5]+str_to_lst[6]+str_to_lst[7]+str_to_lst[8])"
   ]
  },
  {
   "cell_type": "markdown",
   "id": "835565e0",
   "metadata": {},
   "source": [
    "Program that prints the reverse of the number given in integer format without using a loop, leaving a space between them.\n",
    "For example :\n",
    "num = 7356\n",
    "Output = 6537"
   ]
  },
  {
   "cell_type": "code",
   "execution_count": 8,
   "id": "db681d9b",
   "metadata": {},
   "outputs": [
    {
     "name": "stdout",
     "output_type": "stream",
     "text": [
      "6537\n"
     ]
    }
   ],
   "source": [
    "num = \"7 3 5 6\"  # stringe çevirerek çözüm\n",
    "num_elm_lst = num.split()\n",
    "num_elm_lst.reverse()\n",
    "print(int(num_elm_lst[0] + num_elm_lst[1] + num_elm_lst[2] + num_elm_lst[3]))\n",
    "\n"
   ]
  },
  {
   "cell_type": "code",
   "execution_count": 20,
   "id": "4e08177b",
   "metadata": {},
   "outputs": [
    {
     "name": "stdout",
     "output_type": "stream",
     "text": [
      "<class 'int'>\n",
      "6537\n"
     ]
    }
   ],
   "source": [
    "num = 7356  # integer hali çözümü\n",
    "revnum = (num % 10) * 1000 + ((num // 10) % 10) * 100 + ((num // 100) % 10) * 10 + num // 1000\n",
    "print(type(revnum))\n",
    "print(revnum)\n"
   ]
  },
  {
   "cell_type": "code",
   "execution_count": 13,
   "id": "9b3999fe",
   "metadata": {},
   "outputs": [
    {
     "name": "stdout",
     "output_type": "stream",
     "text": [
      "0\n"
     ]
    }
   ],
   "source": [
    "<class 'int'>\n",
    "6537"
   ]
  },
  {
   "cell_type": "code",
   "execution_count": 22,
   "id": "d45acdf4",
   "metadata": {},
   "outputs": [
    {
     "data": {
      "text/plain": [
       "['cat', 'crocodile', 'dog', 'eagle', 'elephant', 'hawk', 'scorpion', 'spider']"
      ]
     },
     "execution_count": 22,
     "metadata": {},
     "output_type": "execute_result"
    }
   ],
   "source": [
    "animals"
   ]
  },
  {
   "cell_type": "code",
   "execution_count": 21,
   "id": "7983006b",
   "metadata": {},
   "outputs": [
    {
     "data": {
      "text/plain": [
       "[['cat',\n",
       "  'crocodile',\n",
       "  'dog',\n",
       "  'eagle',\n",
       "  'elephant',\n",
       "  'hawk',\n",
       "  'scorpion',\n",
       "  'spider']]"
      ]
     },
     "execution_count": 21,
     "metadata": {},
     "output_type": "execute_result"
    }
   ],
   "source": [
    "forest = []\n",
    "forest.append(animals)\n",
    "forest"
   ]
  },
  {
   "cell_type": "code",
   "execution_count": 23,
   "id": "b3d163bf",
   "metadata": {},
   "outputs": [
    {
     "name": "stdout",
     "output_type": "stream",
     "text": [
      "r\n"
     ]
    }
   ],
   "source": [
    "print(forest[0][6][3])"
   ]
  },
  {
   "cell_type": "code",
   "execution_count": 25,
   "id": "e885376d",
   "metadata": {},
   "outputs": [
    {
     "data": {
      "text/plain": [
       "['cat', 'crocodile', 'dog', 'eagle', 'elephant', 'hawk', 'scorpion', 'spider']"
      ]
     },
     "execution_count": 25,
     "metadata": {},
     "output_type": "execute_result"
    }
   ],
   "source": [
    "animals[:]"
   ]
  },
  {
   "cell_type": "code",
   "execution_count": 26,
   "id": "f1540287",
   "metadata": {},
   "outputs": [],
   "source": [
    "animals.append(\"bear\")"
   ]
  },
  {
   "cell_type": "code",
   "execution_count": 27,
   "id": "e33db8cf",
   "metadata": {},
   "outputs": [],
   "source": [
    "animals.append(\"wolf\")"
   ]
  },
  {
   "cell_type": "code",
   "execution_count": 29,
   "id": "f5792c44",
   "metadata": {},
   "outputs": [],
   "source": [
    "animals.insert(6, \"deer\")"
   ]
  },
  {
   "cell_type": "code",
   "execution_count": 30,
   "id": "b425c919",
   "metadata": {},
   "outputs": [],
   "source": [
    "animals.extend(\"giraffe\")  # extend metodu her elemanı liste elemanı yapıyor."
   ]
  },
  {
   "cell_type": "code",
   "execution_count": 36,
   "id": "b790a4e6",
   "metadata": {},
   "outputs": [
    {
     "name": "stdout",
     "output_type": "stream",
     "text": [
      "['cat', 'crocodile', 'dog', 'eagle', 'elephant', 'hawk', 'deer', 'scorpion', 'spider', 'bear', 'wolf', 'g']\n"
     ]
    },
    {
     "data": {
      "text/plain": [
       "'g'"
      ]
     },
     "execution_count": 36,
     "metadata": {},
     "output_type": "execute_result"
    }
   ],
   "source": [
    "print(animals)\n",
    "animals.pop()\n"
   ]
  },
  {
   "cell_type": "code",
   "execution_count": 37,
   "id": "f619b554",
   "metadata": {},
   "outputs": [
    {
     "name": "stdout",
     "output_type": "stream",
     "text": [
      "['cat', 'crocodile', 'dog', 'eagle', 'elephant', 'hawk', 'deer', 'scorpion', 'spider', 'bear', 'wolf']\n"
     ]
    }
   ],
   "source": [
    "print(animals)"
   ]
  },
  {
   "cell_type": "code",
   "execution_count": 43,
   "id": "fec49b89",
   "metadata": {},
   "outputs": [
    {
     "data": {
      "text/plain": [
       "'giraffe'"
      ]
     },
     "execution_count": 43,
     "metadata": {},
     "output_type": "execute_result"
    }
   ],
   "source": [
    "animals.pop()"
   ]
  },
  {
   "cell_type": "code",
   "execution_count": 44,
   "id": "bd6dacb2",
   "metadata": {},
   "outputs": [
    {
     "name": "stdout",
     "output_type": "stream",
     "text": [
      "['cat', 'crocodile', 'dog', 'eagle', 'elephant', 'hawk', 'deer', 'scorpion', 'spider', 'bear', 'wolf', 'giraffe']\n"
     ]
    }
   ],
   "source": [
    "print(animals)"
   ]
  },
  {
   "cell_type": "code",
   "execution_count": 49,
   "id": "d1138699",
   "metadata": {},
   "outputs": [
    {
     "name": "stdout",
     "output_type": "stream",
     "text": [
      "['cat', 'crocodile', 'dog', 'eagle']\n",
      "['elephant', 'hawk', 'deer', 'scorpion', 'spider', 'bear', 'wolf', 'giraffe']\n",
      "['cat', 'eagle', 'deer', 'bear']\n",
      "['giraffe', 'wolf', 'bear', 'spider', 'scorpion', 'deer', 'hawk', 'elephant', 'eagle', 'dog', 'crocodile', 'cat']\n",
      "['bear', 'cat', 'crocodile', 'deer', 'dog', 'eagle', 'elephant', 'giraffe', 'hawk', 'scorpion', 'spider', 'wolf']\n"
     ]
    }
   ],
   "source": [
    "print(animals[:4])\n",
    "print(animals[4:])\n",
    "print(animals[::3])\n",
    "print(animals[::-1])\n",
    "animals.sort()\n",
    "print(animals)"
   ]
  },
  {
   "cell_type": "code",
   "execution_count": 19,
   "id": "661277da",
   "metadata": {},
   "outputs": [
    {
     "name": "stdout",
     "output_type": "stream",
     "text": [
      "3\n"
     ]
    }
   ],
   "source": [
    "print(len([[12, 34, 56]][0]))"
   ]
  },
  {
   "cell_type": "code",
   "execution_count": 8,
   "id": "ac0f3e00",
   "metadata": {},
   "outputs": [
    {
     "data": {
      "text/plain": [
       "[1, 2, 3]"
      ]
     },
     "execution_count": 8,
     "metadata": {},
     "output_type": "execute_result"
    }
   ],
   "source": [
    "liste = [[1, 2, 3]]\n",
    "liste[0]"
   ]
  },
  {
   "cell_type": "code",
   "execution_count": 18,
   "id": "e1e093ed",
   "metadata": {},
   "outputs": [
    {
     "data": {
      "text/plain": [
       "34"
      ]
     },
     "execution_count": 18,
     "metadata": {},
     "output_type": "execute_result"
    }
   ],
   "source": [
    "[12, 34, 56][1]"
   ]
  },
  {
   "cell_type": "code",
   "execution_count": 4,
   "id": "3992f744",
   "metadata": {},
   "outputs": [
    {
     "name": "stdout",
     "output_type": "stream",
     "text": [
      "{'d', 'r', 'a', 'c', 'b'}\n"
     ]
    }
   ],
   "source": [
    "print(set('abracadabra'))\n"
   ]
  },
  {
   "cell_type": "code",
   "execution_count": 1,
   "id": "43a79395",
   "metadata": {},
   "outputs": [
    {
     "name": "stdout",
     "output_type": "stream",
     "text": [
      "['Adana', 'A', 'n', 't', 'e', 'p']\n"
     ]
    }
   ],
   "source": [
    "city = [\"Adana\", \"Bursa\", \"Denizli\"]\n",
    "city[1:] = \"Antep\"\n",
    "print(city)  # ÖNEMLİ!!!\n"
   ]
  },
  {
   "cell_type": "code",
   "execution_count": 3,
   "id": "89cb26a8",
   "metadata": {},
   "outputs": [
    {
     "name": "stdout",
     "output_type": "stream",
     "text": [
      "The most frequent number is 3 and it was 4 times repeated\n"
     ]
    }
   ],
   "source": [
    "numbers = [1, 3, 7, 4, 3, 0, 3, 6, 3]\n",
    "\n",
    "most_freq_sayı = max(numbers, key = numbers.count)  # key=parametre kullanımı örneği\n",
    "frequency = numbers.count(most_freq_sayı)\n",
    "print(f\"The most frequent number is {most_freq_sayı} and it was {frequency} times repeated\")"
   ]
  },
  {
   "cell_type": "code",
   "execution_count": 4,
   "id": "aa837ede",
   "metadata": {},
   "outputs": [
    {
     "data": {
      "text/plain": [
       "3"
      ]
     },
     "execution_count": 4,
     "metadata": {},
     "output_type": "execute_result"
    }
   ],
   "source": [
    "len([[12, 36, 45]][0])  # 0 solundaki listenin ilk indeksini verdiği için liste-\n",
    "#nin içine girmiş olduk ve içinin uzunluğunu verdi."
   ]
  },
  {
   "cell_type": "code",
   "execution_count": 4,
   "id": "59c25088",
   "metadata": {},
   "outputs": [
    {
     "name": "stdout",
     "output_type": "stream",
     "text": [
      "Requirement already satisfied: inflect in c:\\users\\sadullah tanrikulu\\appdata\\local\\programs\\python\\python310\\lib\\site-packages (5.4.0)\n",
      "Note: you may need to restart the kernel to use updated packages.\n"
     ]
    }
   ],
   "source": [
    "pip install inflect"
   ]
  },
  {
   "cell_type": "code",
   "execution_count": 39,
   "id": "0ce4a0f4",
   "metadata": {},
   "outputs": [
    {
     "data": {
      "text/plain": [
       "'ninety-seven'"
      ]
     },
     "execution_count": 39,
     "metadata": {},
     "output_type": "execute_result"
    }
   ],
   "source": [
    "import inflect\n",
    "p = inflect.engine()\n",
    "p.number_to_words(97)"
   ]
  },
  {
   "cell_type": "code",
   "execution_count": 5,
   "id": "b0f76aa6",
   "metadata": {},
   "outputs": [
    {
     "name": "stdout",
     "output_type": "stream",
     "text": [
      "Requirement already satisfied: num2words in c:\\users\\sadullah tanrikulu\\appdata\\local\\programs\\python\\python310\\lib\\site-packages (0.5.10)\n",
      "Requirement already satisfied: docopt>=0.6.2 in c:\\users\\sadullah tanrikulu\\appdata\\local\\programs\\python\\python310\\lib\\site-packages (from num2words) (0.6.2)\n",
      "Note: you may need to restart the kernel to use updated packages.\n"
     ]
    }
   ],
   "source": [
    "pip install num2words"
   ]
  },
  {
   "cell_type": "code",
   "execution_count": 41,
   "id": "979a894a",
   "metadata": {},
   "outputs": [
    {
     "name": "stdout",
     "output_type": "stream",
     "text": [
      "doksanyedi\n"
     ]
    }
   ],
   "source": [
    "from num2words import num2words\n",
    "print(num2words(97, lang=\"tr\"))"
   ]
  },
  {
   "cell_type": "code",
   "execution_count": 1,
   "id": "806bb8b4",
   "metadata": {},
   "outputs": [
    {
     "ename": "NameError",
     "evalue": "name 'inflect' is not defined",
     "output_type": "error",
     "traceback": [
      "\u001b[1;31m---------------------------------------------------------------------------\u001b[0m",
      "\u001b[1;31mNameError\u001b[0m                                 Traceback (most recent call last)",
      "\u001b[1;32mc:\\Users\\Sadullah TANRIKULU\\Desktop\\VScode_python_docs\\list_methods.ipynb Cell 69'\u001b[0m in \u001b[0;36m<module>\u001b[1;34m\u001b[0m\n\u001b[1;32m----> <a href='vscode-notebook-cell:/c%3A/Users/Sadullah%20TANRIKULU/Desktop/VScode_python_docs/list_methods.ipynb#ch0000068?line=0'>1</a>\u001b[0m \u001b[39mdir\u001b[39m(inflect)\n",
      "\u001b[1;31mNameError\u001b[0m: name 'inflect' is not defined"
     ]
    }
   ],
   "source": [
    "dir(inflect)"
   ]
  },
  {
   "cell_type": "code",
   "execution_count": null,
   "id": "5e9a88bc",
   "metadata": {},
   "outputs": [],
   "source": []
  },
  {
   "cell_type": "code",
   "execution_count": null,
   "id": "9b7ce2c2",
   "metadata": {},
   "outputs": [],
   "source": []
  },
  {
   "cell_type": "code",
   "execution_count": null,
   "id": "1113ce78",
   "metadata": {},
   "outputs": [],
   "source": []
  },
  {
   "cell_type": "code",
   "execution_count": null,
   "id": "9f01715f",
   "metadata": {},
   "outputs": [],
   "source": []
  },
  {
   "cell_type": "code",
   "execution_count": null,
   "id": "a9bd59dc",
   "metadata": {},
   "outputs": [],
   "source": []
  }
 ],
 "metadata": {
  "kernelspec": {
   "display_name": "Python 3 (ipykernel)",
   "language": "python",
   "name": "python3"
  },
  "language_info": {
   "codemirror_mode": {
    "name": "ipython",
    "version": 3
   },
   "file_extension": ".py",
   "mimetype": "text/x-python",
   "name": "python",
   "nbconvert_exporter": "python",
   "pygments_lexer": "ipython3",
   "version": "3.10.2"
  }
 },
 "nbformat": 4,
 "nbformat_minor": 5
}
