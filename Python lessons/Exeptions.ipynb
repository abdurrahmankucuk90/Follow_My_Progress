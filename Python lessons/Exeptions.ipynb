{
 "cells": [
  {
   "cell_type": "code",
   "execution_count": 1,
   "metadata": {},
   "outputs": [
    {
     "name": "stdout",
     "output_type": "stream",
     "text": [
      "hellow world\n",
      "hellow world\n",
      "hellow world\n",
      "hellow world\n"
     ]
    },
    {
     "ename": "ZeroDivisionError",
     "evalue": "division by zero",
     "output_type": "error",
     "traceback": [
      "\u001b[1;31m---------------------------------------------------------------------------\u001b[0m",
      "\u001b[1;31mZeroDivisionError\u001b[0m                         Traceback (most recent call last)",
      "\u001b[1;32m<ipython-input-1-e460f0468338>\u001b[0m in \u001b[0;36m<module>\u001b[1;34m\u001b[0m\n\u001b[0;32m      3\u001b[0m \u001b[0mprint\u001b[0m\u001b[1;33m(\u001b[0m\u001b[1;34m\"hellow world\"\u001b[0m\u001b[1;33m)\u001b[0m\u001b[1;33m\u001b[0m\u001b[1;33m\u001b[0m\u001b[0m\n\u001b[0;32m      4\u001b[0m \u001b[0mprint\u001b[0m\u001b[1;33m(\u001b[0m\u001b[1;34m\"hellow world\"\u001b[0m\u001b[1;33m)\u001b[0m\u001b[1;33m\u001b[0m\u001b[1;33m\u001b[0m\u001b[0m\n\u001b[1;32m----> 5\u001b[1;33m \u001b[1;36m2\u001b[0m\u001b[1;33m/\u001b[0m\u001b[1;36m0\u001b[0m\u001b[1;33m\u001b[0m\u001b[1;33m\u001b[0m\u001b[0m\n\u001b[0m\u001b[0;32m      6\u001b[0m \u001b[0mprint\u001b[0m\u001b[1;33m(\u001b[0m\u001b[1;34m\"hellow world\"\u001b[0m\u001b[1;33m)\u001b[0m\u001b[1;33m\u001b[0m\u001b[1;33m\u001b[0m\u001b[0m\n\u001b[0;32m      7\u001b[0m \u001b[0mprint\u001b[0m\u001b[1;33m(\u001b[0m\u001b[1;34m\"hellow world\"\u001b[0m\u001b[1;33m)\u001b[0m\u001b[1;33m\u001b[0m\u001b[1;33m\u001b[0m\u001b[0m\n",
      "\u001b[1;31mZeroDivisionError\u001b[0m: division by zero"
     ]
    }
   ],
   "source": [
    "print(\"hellow world\")\n",
    "print(\"hellow world\")\n",
    "print(\"hellow world\")\n",
    "print(\"hellow world\")\n",
    "2/0  # exeption errorler hataya varincaya kadar calisir\n",
    "print(\"hellow world\")\n",
    "print(\"hellow world\")\n",
    "print(\"hellow world\")\n",
    "print(\"hellow world\")\n",
    "print(\"hellow world\")"
   ]
  },
  {
   "cell_type": "code",
   "execution_count": 3,
   "metadata": {},
   "outputs": [
    {
     "ename": "SyntaxError",
     "evalue": "invalid syntax (<ipython-input-3-ebfe692df9ae>, line 5)",
     "output_type": "error",
     "traceback": [
      "\u001b[1;36m  File \u001b[1;32m\"<ipython-input-3-ebfe692df9ae>\"\u001b[1;36m, line \u001b[1;32m5\u001b[0m\n\u001b[1;33m    2/0\u001b[0m\n\u001b[1;37m    ^\u001b[0m\n\u001b[1;31mSyntaxError\u001b[0m\u001b[1;31m:\u001b[0m invalid syntax\n"
     ]
    }
   ],
   "source": [
    "print(\"hellow world\")\n",
    "print(\"hellow world\")\n",
    "print(\"hellow world\")\n",
    "print(\"hellow world\"  # SyntaxError tarzi seylerde calisiyor\n",
    "2/0\n",
    "print(\"hellow world\")\n",
    "print(\"hellow world\")\n",
    "print(\"hellow world\")\n",
    "print(\"hellow world\")\n",
    "print(\"hellow world\")"
   ]
  },
  {
   "cell_type": "code",
   "execution_count": 6,
   "metadata": {},
   "outputs": [
    {
     "ename": "ZeroDivisionError",
     "evalue": "division by zero",
     "output_type": "error",
     "traceback": [
      "\u001b[1;31m---------------------------------------------------------------------------\u001b[0m",
      "\u001b[1;31mZeroDivisionError\u001b[0m                         Traceback (most recent call last)",
      "\u001b[1;32m<ipython-input-6-71c23077dd83>\u001b[0m in \u001b[0;36m<module>\u001b[1;34m\u001b[0m\n\u001b[0;32m      2\u001b[0m     \u001b[0mno_one\u001b[0m \u001b[1;33m=\u001b[0m \u001b[0mint\u001b[0m\u001b[1;33m(\u001b[0m\u001b[0minput\u001b[0m\u001b[1;33m(\u001b[0m\u001b[1;34m\"The first number please : \"\u001b[0m\u001b[1;33m)\u001b[0m\u001b[1;33m)\u001b[0m\u001b[1;33m\u001b[0m\u001b[1;33m\u001b[0m\u001b[0m\n\u001b[0;32m      3\u001b[0m     \u001b[0mno_two\u001b[0m \u001b[1;33m=\u001b[0m \u001b[0mint\u001b[0m\u001b[1;33m(\u001b[0m\u001b[0minput\u001b[0m\u001b[1;33m(\u001b[0m\u001b[1;34m\"The second number please : \"\u001b[0m\u001b[1;33m)\u001b[0m\u001b[1;33m)\u001b[0m\u001b[1;33m\u001b[0m\u001b[1;33m\u001b[0m\u001b[0m\n\u001b[1;32m----> 4\u001b[1;33m     \u001b[0mdivision\u001b[0m \u001b[1;33m=\u001b[0m \u001b[0mno_one\u001b[0m \u001b[1;33m/\u001b[0m \u001b[0mno_two\u001b[0m\u001b[1;33m\u001b[0m\u001b[1;33m\u001b[0m\u001b[0m\n\u001b[0m\u001b[0;32m      5\u001b[0m     \u001b[0mprint\u001b[0m\u001b[1;33m(\u001b[0m\u001b[1;34m\"The result of the division is : \"\u001b[0m\u001b[1;33m,\u001b[0m \u001b[0mdivision\u001b[0m\u001b[1;33m)\u001b[0m\u001b[1;33m\u001b[0m\u001b[1;33m\u001b[0m\u001b[0m\n\u001b[0;32m      6\u001b[0m     \u001b[1;32mbreak\u001b[0m\u001b[1;33m\u001b[0m\u001b[1;33m\u001b[0m\u001b[0m\n",
      "\u001b[1;31mZeroDivisionError\u001b[0m: division by zero"
     ]
    }
   ],
   "source": [
    "while True:\n",
    "    no_one = int(input(\"The first number please : \"))\n",
    "    no_two = int(input(\"The second number please : \"))\n",
    "    division = no_one / no_two\n",
    "    print(\"The result of the division is : \", division)\n",
    "    break  # sifira bolunmede problem olmasin diye biz bu kodu duzeltiyoruz"
   ]
  },
  {
   "cell_type": "code",
   "execution_count": 8,
   "metadata": {},
   "outputs": [
    {
     "name": "stdout",
     "output_type": "stream",
     "text": [
      "Something went wrong...Try again.\n",
      "Probably it is because of 'division by zero' error\n",
      "The result of the division is :  2.0\n"
     ]
    }
   ],
   "source": [
    "while True:\n",
    "    no_one = int(input(\"The first number please : \"))\n",
    "    no_two = int(input(\"The second number please : \"))\n",
    "    try:\n",
    "        division = no_one / no_two\n",
    "        print(\"The result of the division is : \", division)\n",
    "        break\n",
    "    except Exception as firfirik:\n",
    "        print(\"Something went wrong...Try again.\")\n",
    "        print(\"Probably it is because of '{}' error\".format(firfirik))\n",
    "        continue"
   ]
  },
  {
   "cell_type": "code",
   "execution_count": 17,
   "metadata": {},
   "outputs": [
    {
     "name": "stdout",
     "output_type": "stream",
     "text": [
      "ben birinci kod satiriyim.\n",
      "Now you have division by zero error!\n"
     ]
    }
   ],
   "source": [
    "try : \n",
    "    print(\"ben birinci kod satiriyim.\")\n",
    "    x = 2 / 0\n",
    "    print(\"ben ikinci kod satiriyim.\")\n",
    "except Exception as Noooo :\n",
    "    print(f\"Now you have {Noooo} error!\")"
   ]
  },
  {
   "cell_type": "code",
   "execution_count": 18,
   "metadata": {},
   "outputs": [
    {
     "name": "stdout",
     "output_type": "stream",
     "text": [
      "ben birinci kod satiriyim.\n",
      "ben ikinci kod satiriyim.\n",
      "1.0\n"
     ]
    }
   ],
   "source": [
    "try : \n",
    "    print(\"ben birinci kod satiriyim.\")\n",
    "    x = 2 / 2\n",
    "    print(\"ben ikinci kod satiriyim.\")\n",
    "    print(x)\n",
    "except Exception as Noooo :\n",
    "    print(f\"Now you have {Noooo} error!\")"
   ]
  },
  {
   "cell_type": "code",
   "execution_count": 22,
   "metadata": {},
   "outputs": [
    {
     "name": "stdout",
     "output_type": "stream",
     "text": [
      "The result of the division is : 2\n"
     ]
    }
   ],
   "source": [
    "while True :\n",
    "    no_one = int(input(\"The first number please :\"))\n",
    "    no_two = int(input(\"The second number please :\"))\n",
    "\n",
    "    try :\n",
    "        division = round(no_one / no_two)\n",
    "        print(\"The result of the division is :\", division)\n",
    "        break\n",
    "    except :\n",
    "        print(\"Something went wrong ... Try again.\")\n",
    "        continue"
   ]
  },
  {
   "cell_type": "code",
   "execution_count": 29,
   "metadata": {},
   "outputs": [
    {
     "name": "stdout",
     "output_type": "stream",
     "text": [
      "You are trying to divide by zero ... Try again.\n",
      "You are trying to divide by zero ... Try again.\n",
      "You are trying to divide by zero ... Try again.\n",
      "The result of the division is : 2\n"
     ]
    }
   ],
   "source": [
    "while True :\n",
    "\n",
    "    try :\n",
    "        no_one = int(input(\"The first number please :\"))\n",
    "        no_two = int(input(\"The second number please :\"))\n",
    "        division = round(no_one / no_two)\n",
    "        print(\"The result of the division is :\", division)\n",
    "        break\n",
    "    except ZeroDivisionError:\n",
    "        print(\"You are trying to divide by zero ... Try again.\")\n",
    "        \n",
    "    "
   ]
  },
  {
   "cell_type": "markdown",
   "metadata": {},
   "source": [
    "There are a few more keywords used with try-except statement. By using them, we increase our useful options in our program and create more effective and quality programs. <br>\n",
    "The full version of try-except statement is as follows :<br>\n",
    "```python\n",
    "try:\n",
    "    statements  # Execute this as a normal part of the program\n",
    "except:\n",
    "    statements  # Execute this when there is an exception\n",
    "else: \n",
    "    statements  # Execute this only if no exceptions are raised\n",
    "finally:\n",
    "    statements  # Always execute this"
   ]
  },
  {
   "cell_type": "code",
   "execution_count": 33,
   "metadata": {},
   "outputs": [
    {
     "ename": "ValueError",
     "evalue": "invalid literal for int() with base 10: \"bes'\"",
     "output_type": "error",
     "traceback": [
      "\u001b[1;31m---------------------------------------------------------------------------\u001b[0m",
      "\u001b[1;31mValueError\u001b[0m                                Traceback (most recent call last)",
      "\u001b[1;32m<ipython-input-33-238a6475d088>\u001b[0m in \u001b[0;36m<module>\u001b[1;34m\u001b[0m\n\u001b[0;32m      1\u001b[0m \u001b[1;32mwhile\u001b[0m \u001b[1;32mTrue\u001b[0m\u001b[1;33m:\u001b[0m\u001b[1;33m\u001b[0m\u001b[1;33m\u001b[0m\u001b[0m\n\u001b[0;32m      2\u001b[0m     \u001b[0mno_one\u001b[0m \u001b[1;33m=\u001b[0m \u001b[0mint\u001b[0m\u001b[1;33m(\u001b[0m\u001b[0minput\u001b[0m\u001b[1;33m(\u001b[0m\u001b[1;34m\"The first number please : \"\u001b[0m\u001b[1;33m)\u001b[0m\u001b[1;33m)\u001b[0m\u001b[1;33m\u001b[0m\u001b[1;33m\u001b[0m\u001b[0m\n\u001b[1;32m----> 3\u001b[1;33m     \u001b[0mno_two\u001b[0m \u001b[1;33m=\u001b[0m \u001b[0mint\u001b[0m\u001b[1;33m(\u001b[0m\u001b[0minput\u001b[0m\u001b[1;33m(\u001b[0m\u001b[1;34m\"The second number please : \"\u001b[0m\u001b[1;33m)\u001b[0m\u001b[1;33m)\u001b[0m\u001b[1;33m\u001b[0m\u001b[1;33m\u001b[0m\u001b[0m\n\u001b[0m\u001b[0;32m      4\u001b[0m     \u001b[1;32mtry\u001b[0m\u001b[1;33m:\u001b[0m\u001b[1;33m\u001b[0m\u001b[1;33m\u001b[0m\u001b[0m\n\u001b[0;32m      5\u001b[0m         \u001b[0mdivision\u001b[0m \u001b[1;33m=\u001b[0m \u001b[0mno_one\u001b[0m \u001b[1;33m/\u001b[0m \u001b[0mno_two\u001b[0m  \u001b[1;31m# normal part of the program\u001b[0m\u001b[1;33m\u001b[0m\u001b[1;33m\u001b[0m\u001b[0m\n",
      "\u001b[1;31mValueError\u001b[0m: invalid literal for int() with base 10: \"bes'\""
     ]
    }
   ],
   "source": [
    "while True:\n",
    "    no_one = int(input(\"The first number please : \"))\n",
    "    no_two = int(input(\"The second number please : \"))\n",
    "    try:\n",
    "        division = no_one / no_two  # normal part of the program\n",
    "    except ZeroDivisionError:\n",
    "        print(\"You can't divide by zero! Try again.\")  # executes when division by zero\n",
    "    else:\n",
    "        print(\"The result of the division is : \", division)  # executes if there is no exception\n",
    "    finally:\n",
    "        print(\"Thanks for using our mini divison calculator! Come again!\")\n",
    "        break  # exits the while loop\n",
    "    "
   ]
  },
  {
   "cell_type": "code",
   "execution_count": 34,
   "metadata": {},
   "outputs": [
    {
     "name": "stdout",
     "output_type": "stream",
     "text": [
      "Thanks for using our mini divison calculator! Come again!\n"
     ]
    }
   ],
   "source": [
    "while True:\n",
    "    try:\n",
    "        no_one = int(input(\"The first number please : \"))\n",
    "        no_two = int(input(\"The second number please : \"))\n",
    "        division = no_one / no_two  # normal part of the program\n",
    "    except ZeroDivisionError:\n",
    "        print(\"You can't divide by zero! Try again.\")  # executes when division by zero\n",
    "    else:\n",
    "        print(\"The result of the division is : \", division)  # executes if there is no exception\n",
    "    finally:\n",
    "        print(\"Thanks for using our mini divison calculator! Come again!\")\n",
    "        break  # exits the while loop"
   ]
  },
  {
   "cell_type": "code",
   "execution_count": null,
   "metadata": {},
   "outputs": [],
   "source": [
    "while True:\n",
    "    try:\n",
    "        no_one = int(input(\"The first number please : \"))\n",
    "        no_two = int(input(\"The second number please : \"))\n",
    "        division = no_one / no_two\n",
    "        print(\"The result of the division is : \", division)\n",
    "        break\n",
    "    except Exception as firfirik:\n",
    "        print(\"Something went wrong...Try again.\")\n",
    "        print(\"Probably it is because of '{}' error\".format(firfirik))\n",
    "        continue"
   ]
  },
  {
   "cell_type": "code",
   "execution_count": 4,
   "metadata": {},
   "outputs": [
    {
     "name": "stdout",
     "output_type": "stream",
     "text": [
      "Write something else\n"
     ]
    }
   ],
   "source": [
    "try :\n",
    "    x = int(\"on\")\n",
    "except ZeroDivisionError :\n",
    "    print(\"You are trying to divine by zero\")\n",
    "except NameError :\n",
    "    print(\"Wrong is related to name error\")\n",
    "except (ValueError, TypeError) :\n",
    "    print(\"Write something else\")\n",
    "except Exception as a:\n",
    "    print(\"Your error mesage is :\", a)"
   ]
  },
  {
   "cell_type": "code",
   "execution_count": 7,
   "metadata": {},
   "outputs": [
    {
     "name": "stdout",
     "output_type": "stream",
     "text": [
      "You are trying to divine by zero\n"
     ]
    }
   ],
   "source": [
    "try :\n",
    "    4/0\n",
    "except ArithmeticError :  # hiyerarside ZeroDivisionErroru kapsiyor\n",
    "    print(\"You are trying to divine by zero\")\n",
    "except NameError :\n",
    "    print(\"Wrong is related to name error\")\n",
    "except (ValueError, TypeError) :\n",
    "    print(\"Write something else\")\n",
    "except Exception as a:\n",
    "    print(\"Your error mesage is :\", a)"
   ]
  },
  {
   "cell_type": "code",
   "execution_count": 7,
   "metadata": {},
   "outputs": [
    {
     "name": "stdout",
     "output_type": "stream",
     "text": [
      "you need to write a number between 0 to 5\n",
      "You need to write a digit number\n",
      "My favorite fruit is : pear\n"
     ]
    }
   ],
   "source": [
    "while True:\n",
    "    fruits = [\"banana\", \"mango\", \"pear\", \"apple\", \"kiwi\", \"grape\"]\n",
    "    try :\n",
    "        selector = int(input(\"write a number\"))\n",
    "        print(\"My favorite fruit is :\", fruits[selector])\n",
    "        break\n",
    "    except IndexError:\n",
    "        print(\"you need to write a number between 0 to 5\")\n",
    "        \n",
    "    except ValueError:\n",
    "        print(\"You need to write a digit number\")\n",
    "        "
   ]
  },
  {
   "cell_type": "code",
   "execution_count": 22,
   "metadata": {},
   "outputs": [
    {
     "name": "stdout",
     "output_type": "stream",
     "text": [
      "My favorite fruit is : grape\n",
      "Fruits are always fresh\n"
     ]
    }
   ],
   "source": [
    "counter = 0\n",
    "while counter < 3 :\n",
    "\n",
    "    fruits = [\"banana\", \"mango\", \"pear\", \"apple\", \"kiwi\", \"grape\"]\n",
    "    try :\n",
    "        selector = int(input(\"write a number\"))\n",
    "        print(\"My favorite fruit is :\", fruits[selector])\n",
    "        break\n",
    "    except IndexError:\n",
    "        print(\"you need to write a number between 0 to 5\")\n",
    "        counter += 1\n",
    "        print(f\"you have {3-counter} right left\")\n",
    "        \n",
    "    except ValueError:\n",
    "        print(\"You need to write a digit number\")\n",
    "        counter += 1\n",
    "        print(f\"you have {3-counter} right left\")\n",
    "    else :\n",
    "        print(\"Congs, you wrote right valid\")\n",
    "        print(\"My favorite fruit is :\", fruits[selector])\n",
    "        break\n",
    "    finally :\n",
    "        print(\"Fruits are always fresh\")\n",
    "if counter >=3 :\n",
    "    print(\"YOU HAVE FAILED!!\")\n"
   ]
  },
  {
   "cell_type": "code",
   "execution_count": null,
   "metadata": {},
   "outputs": [],
   "source": []
  }
 ],
 "metadata": {
  "interpreter": {
   "hash": "63920ba7671579ad71e295679b81bc9a31ee6f053c6b33fd8df75406924f51a0"
  },
  "kernelspec": {
   "display_name": "Python 3.7.4 ('base')",
   "language": "python",
   "name": "python3"
  },
  "language_info": {
   "codemirror_mode": {
    "name": "ipython",
    "version": 3
   },
   "file_extension": ".py",
   "mimetype": "text/x-python",
   "name": "python",
   "nbconvert_exporter": "python",
   "pygments_lexer": "ipython3",
   "version": "3.7.4"
  },
  "orig_nbformat": 4
 },
 "nbformat": 4,
 "nbformat_minor": 2
}
