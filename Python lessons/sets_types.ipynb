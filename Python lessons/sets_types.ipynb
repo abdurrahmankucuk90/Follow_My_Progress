{
 "cells": [
  {
   "cell_type": "code",
   "execution_count": 1,
   "metadata": {},
   "outputs": [
    {
     "data": {
      "text/plain": [
       "dict"
      ]
     },
     "execution_count": 1,
     "metadata": {},
     "output_type": "execute_result"
    }
   ],
   "source": [
    "empty_set = {}  # we have to use set() function!\n",
    "type(empty_set)"
   ]
  },
  {
   "cell_type": "code",
   "execution_count": 4,
   "metadata": {},
   "outputs": [
    {
     "name": "stdout",
     "output_type": "stream",
     "text": [
      "<class 'set'>\n"
     ]
    }
   ],
   "source": [
    "new_set = set()\n",
    "print(type(new_set))"
   ]
  },
  {
   "cell_type": "code",
   "execution_count": 8,
   "metadata": {},
   "outputs": [
    {
     "name": "stdout",
     "output_type": "stream",
     "text": [
      "{'yellow', 'darkorange', 'purple', 'green', 'blue', 'red', 'orange'}\n",
      "{'yellow', 'darkorange', 'purple', 'green', 'blue', 'red', 'orange'}\n",
      "{'yellow', 'darkorange', 'purple', 'green', 'blue', 'red', 'orange'}\n"
     ]
    }
   ],
   "source": [
    "colorset = {\"blue\", \"green\", \"purple\", \"red\", \"orange\", \"yellow\", \"darkorange\", \"blue\"}\n",
    "\n",
    "print(colorset)\n",
    "print(colorset)\n",
    "print(colorset)  # there is only one \"blue\" in output unlike set above.\n"
   ]
  },
  {
   "cell_type": "code",
   "execution_count": 12,
   "metadata": {},
   "outputs": [
    {
     "name": "stdout",
     "output_type": "stream",
     "text": [
      "{'i', 'h', 'e', 'n', 'f', 'u', 'l', 's'}\n",
      "{'i', 'h', 'e', 'n', 'f', 'u', 'l', 's'}\n"
     ]
    }
   ],
   "source": [
    "s =set('unselfishness')\n",
    "print(s)\n",
    "print(s)"
   ]
  },
  {
   "cell_type": "code",
   "execution_count": 13,
   "metadata": {},
   "outputs": [
    {
     "name": "stdout",
     "output_type": "stream",
     "text": [
      "{'rose', 'carnation', 'orchid', 'violet'}\n",
      "{'rose', 'carnation', 'orchid', 'violet'}\n"
     ]
    }
   ],
   "source": [
    "flower_set1 = {'carnation', 'orchid', 'rose', 'violet'}\n",
    "flower_set2 = {'rose', 'orchid', 'rose', 'violet', 'carnation'}\n",
    "print(flower_set1)\n",
    "print(flower_set2)"
   ]
  },
  {
   "cell_type": "code",
   "execution_count": 3,
   "metadata": {},
   "outputs": [
    {
     "name": "stdout",
     "output_type": "stream",
     "text": [
      "{1, 2, 3, 4}\n",
      "{1, 2, 3, 4}\n"
     ]
    },
    {
     "ename": "TypeError",
     "evalue": "unhashable type: 'list'",
     "output_type": "error",
     "traceback": [
      "\u001b[1;31m---------------------------------------------------------------------------\u001b[0m",
      "\u001b[1;31mTypeError\u001b[0m                                 Traceback (most recent call last)",
      "\u001b[1;32mc:\\Users\\Sadullah TANRIKULU\\Desktop\\VScode_python_docs\\sets_types.ipynb Cell 6'\u001b[0m in \u001b[0;36m<module>\u001b[1;34m\u001b[0m\n\u001b[0;32m      <a href='vscode-notebook-cell:/c%3A/Users/Sadullah%20TANRIKULU/Desktop/VScode_python_docs/sets_types.ipynb#ch0000005?line=0'>1</a>\u001b[0m \u001b[39mprint\u001b[39m({\u001b[39m1\u001b[39m,\u001b[39m2\u001b[39m,\u001b[39m3\u001b[39m,\u001b[39m4\u001b[39m})\n\u001b[0;32m      <a href='vscode-notebook-cell:/c%3A/Users/Sadullah%20TANRIKULU/Desktop/VScode_python_docs/sets_types.ipynb#ch0000005?line=1'>2</a>\u001b[0m \u001b[39mprint\u001b[39m(\u001b[39mset\u001b[39m((\u001b[39m1\u001b[39m,\u001b[39m2\u001b[39m,\u001b[39m3\u001b[39m,\u001b[39m4\u001b[39m)))\n\u001b[1;32m----> <a href='vscode-notebook-cell:/c%3A/Users/Sadullah%20TANRIKULU/Desktop/VScode_python_docs/sets_types.ipynb#ch0000005?line=2'>3</a>\u001b[0m \u001b[39mprint\u001b[39m(\u001b[39mset\u001b[39;49m([\u001b[39m1\u001b[39;49m,\u001b[39m2\u001b[39;49m, [\u001b[39m2\u001b[39;49m,\u001b[39m3\u001b[39;49m], \u001b[39m4\u001b[39;49m,\u001b[39m5\u001b[39;49m]))\n\u001b[0;32m      <a href='vscode-notebook-cell:/c%3A/Users/Sadullah%20TANRIKULU/Desktop/VScode_python_docs/sets_types.ipynb#ch0000005?line=3'>4</a>\u001b[0m \u001b[39mprint\u001b[39m(\u001b[39mtype\u001b[39m(\u001b[39mset\u001b[39m([[\u001b[39m1\u001b[39m,\u001b[39m2\u001b[39m], [\u001b[39m3\u001b[39m,\u001b[39m4\u001b[39m], [\u001b[39m4\u001b[39m,\u001b[39m5\u001b[39m]])))\n",
      "\u001b[1;31mTypeError\u001b[0m: unhashable type: 'list'"
     ]
    }
   ],
   "source": [
    "print({1,2,3,4})\n",
    "print(set((1,2,3,4)))\n",
    "print(set([1,2, [2,3], 4,5]))\n",
    "print(type(set([[1,2], [3,4], [4,5]]))) \n",
    "# nested list lerde(veya nested dict lerde) içerdeki liste sete dönüşmediği için \n",
    "# listenin bir elemanı olarak kalamıyor ve hata veriyor."
   ]
  },
  {
   "cell_type": "code",
   "execution_count": 4,
   "metadata": {},
   "outputs": [
    {
     "ename": "TypeError",
     "evalue": "unhashable type: 'list'",
     "output_type": "error",
     "traceback": [
      "\u001b[1;31m---------------------------------------------------------------------------\u001b[0m",
      "\u001b[1;31mTypeError\u001b[0m                                 Traceback (most recent call last)",
      "\u001b[1;32mc:\\Users\\Sadullah TANRIKULU\\Desktop\\VScode_python_docs\\sets_types.ipynb Cell 7'\u001b[0m in \u001b[0;36m<module>\u001b[1;34m\u001b[0m\n\u001b[0;32m      <a href='vscode-notebook-cell:/c%3A/Users/Sadullah%20TANRIKULU/Desktop/VScode_python_docs/sets_types.ipynb#ch0000006?line=0'>1</a>\u001b[0m \u001b[39m\"\"\"But lists and dictionaries are mutable, so they can’t be set elements:\"\"\"\u001b[39;00m\n\u001b[0;32m      <a href='vscode-notebook-cell:/c%3A/Users/Sadullah%20TANRIKULU/Desktop/VScode_python_docs/sets_types.ipynb#ch0000006?line=1'>2</a>\u001b[0m a \u001b[39m=\u001b[39m [\u001b[39m1\u001b[39m, \u001b[39m2\u001b[39m, \u001b[39m3\u001b[39m]\n\u001b[1;32m----> <a href='vscode-notebook-cell:/c%3A/Users/Sadullah%20TANRIKULU/Desktop/VScode_python_docs/sets_types.ipynb#ch0000006?line=2'>3</a>\u001b[0m \u001b[39mprint\u001b[39m({a})\n",
      "\u001b[1;31mTypeError\u001b[0m: unhashable type: 'list'"
     ]
    }
   ],
   "source": [
    "\"\"\"But lists and dictionaries are mutable, so they can’t be set elements:\"\"\"\n",
    "a = [1, 2, 3]\n",
    "print({a})  # listeyi set yapmaya çalışıyoruz.\n"
   ]
  },
  {
   "cell_type": "code",
   "execution_count": 5,
   "metadata": {},
   "outputs": [
    {
     "ename": "TypeError",
     "evalue": "unhashable type: 'dict'",
     "output_type": "error",
     "traceback": [
      "\u001b[1;31m---------------------------------------------------------------------------\u001b[0m",
      "\u001b[1;31mTypeError\u001b[0m                                 Traceback (most recent call last)",
      "\u001b[1;32mc:\\Users\\Sadullah TANRIKULU\\Desktop\\VScode_python_docs\\sets_types.ipynb Cell 8'\u001b[0m in \u001b[0;36m<module>\u001b[1;34m\u001b[0m\n\u001b[0;32m      <a href='vscode-notebook-cell:/c%3A/Users/Sadullah%20TANRIKULU/Desktop/VScode_python_docs/sets_types.ipynb#ch0000007?line=0'>1</a>\u001b[0m d \u001b[39m=\u001b[39m {\u001b[39m'\u001b[39m\u001b[39ma\u001b[39m\u001b[39m'\u001b[39m: \u001b[39m1\u001b[39m, \u001b[39m'\u001b[39m\u001b[39mb\u001b[39m\u001b[39m'\u001b[39m: \u001b[39m2\u001b[39m}\n\u001b[1;32m----> <a href='vscode-notebook-cell:/c%3A/Users/Sadullah%20TANRIKULU/Desktop/VScode_python_docs/sets_types.ipynb#ch0000007?line=1'>2</a>\u001b[0m \u001b[39mprint\u001b[39m({d})\n",
      "\u001b[1;31mTypeError\u001b[0m: unhashable type: 'dict'"
     ]
    }
   ],
   "source": [
    "d = {'a': 1, 'b': 2}\n",
    "print({d})  # sözlüğü set yapmaya çalışıyoruz.\n"
   ]
  },
  {
   "cell_type": "code",
   "execution_count": 31,
   "metadata": {},
   "outputs": [
    {
     "name": "stdout",
     "output_type": "stream",
     "text": [
      "{'r', 'b', 'd'}\n",
      "{'r', 'b', 'd'}\n"
     ]
    }
   ],
   "source": [
    "a = set('abracadabra')\n",
    "b = set(\"alacazam\")\n",
    "\n",
    "print(a-b) # same as '.difference()' method\n",
    "print(a.difference(b))"
   ]
  },
  {
   "cell_type": "code",
   "execution_count": 27,
   "metadata": {},
   "outputs": [
    {
     "name": "stdout",
     "output_type": "stream",
     "text": [
      "{'a', 'z', 'r', 'b', 'd', 'm', 'l', 'c'}\n",
      "{'a', 'z', 'r', 'b', 'd', 'm', 'l', 'c'}\n"
     ]
    }
   ],
   "source": [
    "print(a | b)  # same as '.union()' method\n",
    "print(a.union(b))"
   ]
  },
  {
   "cell_type": "code",
   "execution_count": 28,
   "metadata": {},
   "outputs": [
    {
     "name": "stdout",
     "output_type": "stream",
     "text": [
      "{'a', 'c'}\n",
      "{'a', 'c'}\n"
     ]
    }
   ],
   "source": [
    "print(a & b)  # same as \".intersection()\" method\n",
    "print(a.intersection(b))"
   ]
  },
  {
   "cell_type": "code",
   "execution_count": 6,
   "metadata": {},
   "outputs": [
    {
     "name": "stdout",
     "output_type": "stream",
     "text": [
      "{'r', 'a', 'd', 'b', 'c'}\n",
      "{'r', 'a', 'd', 'b'}\n",
      "{'r', 'a', 'd', 'b', 'c'}\n"
     ]
    },
    {
     "data": {
      "text/plain": [
       "5"
      ]
     },
     "execution_count": 6,
     "metadata": {},
     "output_type": "execute_result"
    }
   ],
   "source": [
    "a = set('abracadabra')\n",
    "print(a)\n",
    "a.remove('c')  # removed \"c\"\n",
    "print(a)\n",
    "a.add(\"c\")  # added \"c\" again\n",
    "print(a)\n",
    "len(a)"
   ]
  },
  {
   "cell_type": "markdown",
   "metadata": {},
   "source": [
    "Task : Find out if the given word is \"comfortable words\" in relation to the ten-finger keyboard use.\n",
    "\n",
    "A comfortable word is a word which you can type always alternating the hand you type with (assuming you type using a Q-keyboard and use of the ten-fingers standard).\n",
    "The word will always be a string consisting of only letters from a to z.\n",
    "Write a program which returns True if it's a comfortable word or False otherwise."
   ]
  },
  {
   "cell_type": "code",
   "execution_count": 4,
   "metadata": {},
   "outputs": [
    {
     "name": "stdout",
     "output_type": "stream",
     "text": [
      "{'p', 'k', 'o', 'h', 'ü', 'y', 'ö', 'i', 'ş', 'u', 'j', 'l', 'ı', 'ç', 'n', 'm'}\n",
      "{'z', 'x', 'v', 'r', 'e', 's', 'c', 'g', 'a', 'd', 'w', 'f', 'b', 'q', 't'}\n",
      "My words' letters: {'h', 's', 'u', 'l', 'a', 'd'}\n",
      "Your words' comfortable word situation is {'h', 'u', 'l'}\n"
     ]
    }
   ],
   "source": [
    "right_finger_letters = set(\"iopklyuhjnmıüşöç\")\n",
    "left_finger_letters = set(\"qwertasdfgzxcvb\")\n",
    "print(right_finger_letters)\n",
    "print(left_finger_letters)\n",
    "word = input(\"Is it comfortable word, pls ask me?:\")\n",
    "set_word = set(word)\n",
    "print(\"My words' letters:\", set_word)\n",
    "print(\"Your words' comfortable word situation is\", (set_word.difference(right_finger_letters)\\\n",
    "     and set_word.difference(left_finger_letters)))\n",
    "\n",
    "\n"
   ]
  },
  {
   "cell_type": "markdown",
   "metadata": {},
   "source": [
    "## Set (Kumeler)\n",
    "No repetition (unique)\n",
    "Math operations can be used \n",
    "    Union\n",
    "    Intersection\n",
    "    Difference\n",
    "Unordered elements"
   ]
  },
  {
   "cell_type": "code",
   "execution_count": 2,
   "metadata": {},
   "outputs": [
    {
     "name": "stdout",
     "output_type": "stream",
     "text": [
      "{'pink', 'blue', 'red'} {'pink', 'blue', 'red'}\n"
     ]
    }
   ],
   "source": [
    "set_1 = {\"red\", \"blue\", \"pink\", \"red\"}\n",
    "colors = \"red\", \"blue\", \"pink\", \"red\"\n",
    "set_2 = set(colors)\n",
    "print(set_1, set_2)"
   ]
  },
  {
   "cell_type": "code",
   "execution_count": 3,
   "metadata": {},
   "outputs": [],
   "source": [
    "emptyset = set()\n",
    "#empty set bu sekilde yapiliyor"
   ]
  },
  {
   "cell_type": "code",
   "execution_count": 5,
   "metadata": {},
   "outputs": [
    {
     "data": {
      "text/plain": [
       "set"
      ]
     },
     "execution_count": 5,
     "metadata": {},
     "output_type": "execute_result"
    }
   ],
   "source": [
    "\n",
    "type(emptyset)"
   ]
  },
  {
   "cell_type": "code",
   "execution_count": 6,
   "metadata": {},
   "outputs": [
    {
     "data": {
      "text/plain": [
       "{0, 1, 2}"
      ]
     },
     "execution_count": 6,
     "metadata": {},
     "output_type": "execute_result"
    }
   ],
   "source": [
    "ilk_kume = {1, 1, 2, 0, 1}\n",
    "ilk_kume"
   ]
  },
  {
   "cell_type": "code",
   "execution_count": 8,
   "metadata": {},
   "outputs": [
    {
     "data": {
      "text/plain": [
       "3"
      ]
     },
     "execution_count": 8,
     "metadata": {},
     "output_type": "execute_result"
    }
   ],
   "source": [
    "len({1, 1, 2, 0, 1})"
   ]
  },
  {
   "cell_type": "code",
   "execution_count": 1,
   "metadata": {},
   "outputs": [
    {
     "name": "stdout",
     "output_type": "stream",
     "text": [
      "['a', 'b', 'c', 'd', 'e', 'f', 'g', 'h', 'i', 'j', 'k', 'l', 'm', 'n', 'o', 'p', 'r', 's', 'z', 'x', 'c', 'v', 'b', 'n', 'm']\n"
     ]
    }
   ],
   "source": [
    "letter = \"a b c d e f  g h i j k l m n o p r s z x c v b n m\".split()\n",
    "print(letter)"
   ]
  },
  {
   "cell_type": "code",
   "execution_count": 2,
   "metadata": {},
   "outputs": [
    {
     "name": "stdout",
     "output_type": "stream",
     "text": [
      "{'n', 'k', 'o', 'r', 'v', 'j', 'd', 's', 'g', 'm', 'l', 'c', 'e', 'p', 'i', 'f', 'h', 'b', 'a', 'z', 'x'}\n"
     ]
    }
   ],
   "source": [
    "print(set(letter))"
   ]
  },
  {
   "cell_type": "code",
   "execution_count": 6,
   "metadata": {},
   "outputs": [
    {
     "data": {
      "text/plain": [
       "2"
      ]
     },
     "execution_count": 6,
     "metadata": {},
     "output_type": "execute_result"
    }
   ],
   "source": [
    "seyle_birsey = {1, \"1\", 1.0}\n",
    "len(seyle_birsey)"
   ]
  },
  {
   "cell_type": "code",
   "execution_count": 4,
   "metadata": {},
   "outputs": [
    {
     "data": {
      "text/plain": [
       "False"
      ]
     },
     "execution_count": 4,
     "metadata": {},
     "output_type": "execute_result"
    }
   ],
   "source": [
    "1 == \"1\""
   ]
  },
  {
   "cell_type": "code",
   "execution_count": 5,
   "metadata": {},
   "outputs": [
    {
     "data": {
      "text/plain": [
       "True"
      ]
     },
     "execution_count": 5,
     "metadata": {},
     "output_type": "execute_result"
    }
   ],
   "source": [
    "1 == 1.0"
   ]
  },
  {
   "cell_type": "code",
   "execution_count": 5,
   "metadata": {},
   "outputs": [
    {
     "name": "stdout",
     "output_type": "stream",
     "text": [
      "{1, 2, (3, 4)}\n"
     ]
    }
   ],
   "source": [
    "tuple_set = {1, 2, (3, 4)}\n",
    "print(tuple_set)"
   ]
  },
  {
   "cell_type": "code",
   "execution_count": 14,
   "metadata": {},
   "outputs": [],
   "source": [
    "a = {'carnation', 'orchid', 'rose', 1,  'violet'} \n",
    "b = {'rose', 'orchid', 'rose', 'violet', 'carnation'} "
   ]
  },
  {
   "cell_type": "code",
   "execution_count": 9,
   "metadata": {},
   "outputs": [
    {
     "data": {
      "text/plain": [
       "{1}"
      ]
     },
     "execution_count": 9,
     "metadata": {},
     "output_type": "execute_result"
    }
   ],
   "source": [
    "a.difference(b)"
   ]
  },
  {
   "cell_type": "code",
   "execution_count": 10,
   "metadata": {},
   "outputs": [
    {
     "data": {
      "text/plain": [
       "{1, 'carnation', 'lilly', 'orchid', 'rose', 'violet'}"
      ]
     },
     "execution_count": 10,
     "metadata": {},
     "output_type": "execute_result"
    }
   ],
   "source": [
    "a.add(\"lilly\")\n",
    "a"
   ]
  },
  {
   "cell_type": "code",
   "execution_count": 11,
   "metadata": {},
   "outputs": [],
   "source": [
    "a.difference_update(b)"
   ]
  },
  {
   "cell_type": "code",
   "execution_count": 12,
   "metadata": {},
   "outputs": [
    {
     "data": {
      "text/plain": [
       "{1, 'lilly'}"
      ]
     },
     "execution_count": 12,
     "metadata": {},
     "output_type": "execute_result"
    }
   ],
   "source": [
    "a"
   ]
  },
  {
   "cell_type": "code",
   "execution_count": 13,
   "metadata": {},
   "outputs": [
    {
     "data": {
      "text/plain": [
       "{'carnation', 'orchid', 'rose', 'violet'}"
      ]
     },
     "execution_count": 13,
     "metadata": {},
     "output_type": "execute_result"
    }
   ],
   "source": [
    "b"
   ]
  },
  {
   "cell_type": "code",
   "execution_count": 16,
   "metadata": {},
   "outputs": [
    {
     "data": {
      "text/plain": [
       "{1, 'carnation', 'orchid', 'violet'}"
      ]
     },
     "execution_count": 16,
     "metadata": {},
     "output_type": "execute_result"
    }
   ],
   "source": [
    "a.remove(\"rose\")\n",
    "a"
   ]
  },
  {
   "cell_type": "code",
   "execution_count": 20,
   "metadata": {},
   "outputs": [
    {
     "data": {
      "text/plain": [
       "{'a', 'd', 'e', 'h', 'i', 'l', 'n', 'o', 'p'}"
      ]
     },
     "execution_count": 20,
     "metadata": {},
     "output_type": "execute_result"
    }
   ],
   "source": [
    "a = set(\"philadelphia\")\n",
    "b = set(\"dolphine\")\n",
    "a.intersection(b)\n",
    "a.difference(b)"
   ]
  },
  {
   "cell_type": "code",
   "execution_count": 24,
   "metadata": {},
   "outputs": [
    {
     "name": "stdout",
     "output_type": "stream",
     "text": [
      "{'n', 'o'}\n",
      "{'n', 'o'}\n"
     ]
    }
   ],
   "source": [
    "print(b - a)  # Fark kumesi\n",
    "print(b.difference(a))"
   ]
  },
  {
   "cell_type": "code",
   "execution_count": 25,
   "metadata": {},
   "outputs": [
    {
     "name": "stdout",
     "output_type": "stream",
     "text": [
      "{'d', 'e', 'p', 'i', 'l', 'n', 'o', 'a', 'h'}\n",
      "{'d', 'e', 'p', 'i', 'l', 'n', 'o', 'a', 'h'}\n"
     ]
    }
   ],
   "source": [
    "print(a|b)  # Her iki kumenin butun elemanlarini gosteriyor\n",
    "print(a.union(b))"
   ]
  },
  {
   "cell_type": "code",
   "execution_count": 26,
   "metadata": {},
   "outputs": [
    {
     "name": "stdout",
     "output_type": "stream",
     "text": [
      "{'d', 'e', 'p', 'i', 'l', 'h'}\n",
      "{'d', 'e', 'p', 'i', 'l', 'h'}\n"
     ]
    }
   ],
   "source": [
    "print(a & b )  # Kesisim kumesi\n",
    "print(a.intersection(b))"
   ]
  },
  {
   "cell_type": "code",
   "execution_count": 28,
   "metadata": {},
   "outputs": [
    {
     "name": "stdout",
     "output_type": "stream",
     "text": [
      "{'02', '21', '2022'} {'2', '0', '1', '/'}\n"
     ]
    }
   ],
   "source": [
    "date = \"02 21 2022\".split()\n",
    "sdate = set(date)\n",
    "date2 = set(\"02/21/2022\")\n",
    "print(sdate, date2)"
   ]
  },
  {
   "cell_type": "code",
   "execution_count": 29,
   "metadata": {},
   "outputs": [
    {
     "data": {
      "text/plain": [
       "False"
      ]
     },
     "execution_count": 29,
     "metadata": {},
     "output_type": "execute_result"
    }
   ],
   "source": [
    "a.difference(b) == b.difference(a)"
   ]
  },
  {
   "cell_type": "code",
   "execution_count": 30,
   "metadata": {},
   "outputs": [
    {
     "ename": "SyntaxError",
     "evalue": "invalid syntax (<ipython-input-30-9cd4937ab0b6>, line 1)",
     "output_type": "error",
     "traceback": [
      "\u001b[1;36m  File \u001b[1;32m\"<ipython-input-30-9cd4937ab0b6>\"\u001b[1;36m, line \u001b[1;32m1\u001b[0m\n\u001b[1;33m    list = [1, 2, ,3 ,4 ,4, 5, 6, 7, ,8]\u001b[0m\n\u001b[1;37m                  ^\u001b[0m\n\u001b[1;31mSyntaxError\u001b[0m\u001b[1;31m:\u001b[0m invalid syntax\n"
     ]
    }
   ],
   "source": [
    "list = [1, 2, ,3 ,4 ,4, 5, 6, 7, ,8]  # List set yapilamiyor\n",
    "unique = set(list)"
   ]
  },
  {
   "cell_type": "code",
   "execution_count": 37,
   "metadata": {},
   "outputs": [
    {
     "name": "stdout",
     "output_type": "stream",
     "text": [
      "{'a', 's', 'h'}\n",
      "{'e', 's', 't', 'W', 'i', 'g', 'l', 'n', 'o', 'a', 'h'}\n",
      "{'t', 'W', 'i', 'g', 'n', 'o'}\n"
     ]
    }
   ],
   "source": [
    "usa = set(\"Washington\")\n",
    "nzealand = set(\"Wellington\")\n",
    "print(usa.difference(nzealand), usa.union(nzealand), usa.intersection(nzealand), sep=\"\\n\")"
   ]
  },
  {
   "cell_type": "code",
   "execution_count": null,
   "metadata": {},
   "outputs": [],
   "source": []
  }
 ],
 "metadata": {
  "interpreter": {
   "hash": "8f4a6391e1b416e87673bf8c434effa0344087e493d9d0bc28a0b378216aa186"
  },
  "kernelspec": {
   "display_name": "Python 3.10.2 64-bit",
   "language": "python",
   "name": "python3"
  },
  "language_info": {
   "codemirror_mode": {
    "name": "ipython",
    "version": 3
   },
   "file_extension": ".py",
   "mimetype": "text/x-python",
   "name": "python",
   "nbconvert_exporter": "python",
   "pygments_lexer": "ipython3",
   "version": "3.7.4"
  },
  "orig_nbformat": 4
 },
 "nbformat": 4,
 "nbformat_minor": 2
}
