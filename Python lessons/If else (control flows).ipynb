{
 "cells": [
  {
   "cell_type": "code",
   "execution_count": null,
   "metadata": {},
   "outputs": [],
   "source": [
    "sayilar = [1, 2, 3, 4, 5]\n",
    "print(sayilar[1])\n",
    "print(sayilar[2])\n",
    "print(sayilar[3])\n",
    "print(sayilar[4])"
   ]
  },
  {
   "cell_type": "code",
   "execution_count": 3,
   "metadata": {},
   "outputs": [],
   "source": [
    "# < > <= >= == herzaman booleon sonuc verir"
   ]
  },
  {
   "cell_type": "code",
   "execution_count": 4,
   "metadata": {},
   "outputs": [],
   "source": [
    "a = 3\n",
    "b = 0"
   ]
  },
  {
   "cell_type": "code",
   "execution_count": 5,
   "metadata": {},
   "outputs": [
    {
     "name": "stdout",
     "output_type": "stream",
     "text": [
      "ali\n"
     ]
    }
   ],
   "source": [
    "if b > a :\n",
    "    print(\"hello\")  # Coz b>a is false\n",
    "print(\"ali\")"
   ]
  },
  {
   "cell_type": "markdown",
   "metadata": {},
   "source": [
    "```` Python\n",
    "    if condition : \n",
    "        body1\n",
    "        body2\n",
    "    outbody\n",
    "\n",
    "´´´´"
   ]
  },
  {
   "cell_type": "code",
   "execution_count": 6,
   "metadata": {},
   "outputs": [
    {
     "name": "stdout",
     "output_type": "stream",
     "text": [
      "nie\n",
      "anycase\n"
     ]
    }
   ],
   "source": [
    "if \"0\" : \n",
    "    print(\"nie\")\n",
    "print(\"anycase\")"
   ]
  },
  {
   "cell_type": "code",
   "execution_count": 7,
   "metadata": {},
   "outputs": [
    {
     "name": "stdout",
     "output_type": "stream",
     "text": [
      "print me in all cases\n"
     ]
    }
   ],
   "source": [
    "if 0:\n",
    "    print(\"nie\")\n",
    "print(\"print me in all cases\")"
   ]
  },
  {
   "cell_type": "code",
   "execution_count": 8,
   "metadata": {},
   "outputs": [
    {
     "name": "stdout",
     "output_type": "stream",
     "text": [
      "bunu yazar\n"
     ]
    }
   ],
   "source": [
    "if \"0\" and \"\":\n",
    "    print(\"hello word\")\n",
    "print(\"bunu yazar\")"
   ]
  },
  {
   "cell_type": "code",
   "execution_count": 10,
   "metadata": {},
   "outputs": [
    {
     "name": "stdout",
     "output_type": "stream",
     "text": [
      "hello\n"
     ]
    }
   ],
   "source": [
    "if [\"\"]:  # Liste dolu oldugu icin Truety oluyor\n",
    "    print(\"hello\")"
   ]
  },
  {
   "cell_type": "code",
   "execution_count": 11,
   "metadata": {},
   "outputs": [
    {
     "name": "stdout",
     "output_type": "stream",
     "text": [
      "Bon Appetitt\n"
     ]
    }
   ],
   "source": [
    "#malzemeler\n",
    "minced = True\n",
    "bread = True\n",
    "#green\n",
    "lettuce = True\n",
    "onion = False\n",
    "\n",
    "grocer = True\n",
    "if minced and bread and (lettuce or onion) and grocer:\n",
    "    print(\"Bon Appetitt\")\n",
    "\n"
   ]
  },
  {
   "cell_type": "code",
   "execution_count": 12,
   "metadata": {},
   "outputs": [
    {
     "name": "stdout",
     "output_type": "stream",
     "text": [
      "esit\n"
     ]
    }
   ],
   "source": [
    "str1 = set(\"TWELVE PLUS ONE\")\n",
    "str2 = set(\"ELEVEN PLUS TWO\")\n",
    "if str1 == str2:\n",
    "    print(\"esit\")"
   ]
  },
  {
   "cell_type": "code",
   "execution_count": 18,
   "metadata": {},
   "outputs": [
    {
     "name": "stdout",
     "output_type": "stream",
     "text": [
      "you entered true\n"
     ]
    }
   ],
   "source": [
    "a = input(\"yes or no\").lower()\n",
    "if a == \"yes\":\n",
    "    \n",
    "    print(\"you entered true\")"
   ]
  },
  {
   "cell_type": "code",
   "execution_count": 25,
   "metadata": {},
   "outputs": [],
   "source": [
    "convert = input('Enter yes or no: ').title().strip() == 'Yes'\n",
    "\n"
   ]
  },
  {
   "cell_type": "code",
   "execution_count": 23,
   "metadata": {},
   "outputs": [
    {
     "data": {
      "text/plain": [
       "True"
      ]
     },
     "execution_count": 23,
     "metadata": {},
     "output_type": "execute_result"
    }
   ],
   "source": [
    "convert"
   ]
  },
  {
   "cell_type": "code",
   "execution_count": 29,
   "metadata": {},
   "outputs": [
    {
     "name": "stdout",
     "output_type": "stream",
     "text": [
      "You entered True\n"
     ]
    }
   ],
   "source": [
    "print(f\"You entered {input('Enter yes or no: ').title().strip() == 'Yes'}\")"
   ]
  },
  {
   "cell_type": "code",
   "execution_count": 8,
   "metadata": {},
   "outputs": [
    {
     "name": "stdout",
     "output_type": "stream",
     "text": [
      "15 is odd\n"
     ]
    }
   ],
   "source": [
    "number = int(input(\"number\"))\n",
    "if number % 2 == 0:\n",
    "    print(\"{} is even\".format(number))\n",
    "else:\n",
    "    print(\"{} is odd\".format(number))"
   ]
  },
  {
   "cell_type": "code",
   "execution_count": 10,
   "metadata": {},
   "outputs": [
    {
     "name": "stdout",
     "output_type": "stream",
     "text": [
      "-15 is possitive\n"
     ]
    }
   ],
   "source": [
    "number1 = int(input(\"number\"))\n",
    "if number > 0:\n",
    "    print(\"{} is possitive\".format(number1))\n",
    "elif number == 0:\n",
    "    print(\"{} is not positive or negative\".format(number1))\n",
    "else:\n",
    "    print(\"{} is nagetive number\".format(number1))"
   ]
  },
  {
   "cell_type": "code",
   "execution_count": 15,
   "metadata": {},
   "outputs": [
    {
     "name": "stdout",
     "output_type": "stream",
     "text": [
      "number2 is bigger\n"
     ]
    }
   ],
   "source": [
    "number2 = int(input(\"sayi\"))\n",
    "number3 = int(input(\"number\"))\n",
    "fark = number2 - number3\n",
    "if fark > 0:\n",
    "    print(\"number2 is bigger\")\n",
    "else:\n",
    "    print(\"number3 is bigger\")"
   ]
  },
  {
   "cell_type": "code",
   "execution_count": 16,
   "metadata": {},
   "outputs": [
    {
     "name": "stdout",
     "output_type": "stream",
     "text": [
      "The larger number is  10\n"
     ]
    }
   ],
   "source": [
    "if number2 > number3:\n",
    "    larger = number2\n",
    "else:\n",
    "    larger = number3\n",
    "print(\"The larger number is \", larger)"
   ]
  },
  {
   "cell_type": "code",
   "execution_count": 18,
   "metadata": {},
   "outputs": [
    {
     "name": "stdout",
     "output_type": "stream",
     "text": [
      "yes\n"
     ]
    }
   ],
   "source": [
    "degisken = True\n",
    "if degisken:\n",
    "    print(\"yes\")\n",
    "else:\n",
    "    print(\"no\")"
   ]
  },
  {
   "cell_type": "code",
   "execution_count": 2,
   "metadata": {},
   "outputs": [
    {
     "name": "stdout",
     "output_type": "stream",
     "text": [
      "15.0\n"
     ]
    }
   ],
   "source": [
    "num1 = float(input(\"numb\"))\n",
    "num2 = float(input(\"numb\"))\n",
    "num3 = float(input(\"numb\"))\n",
    "if num1 > num2:\n",
    "    large = num1\n",
    "else:\n",
    "    large = num2\n",
    "\n",
    "if large > num3:\n",
    "    large = large\n",
    "else:\n",
    "    large = num3\n",
    "print(large)"
   ]
  },
  {
   "cell_type": "code",
   "execution_count": 4,
   "metadata": {},
   "outputs": [
    {
     "name": "stdout",
     "output_type": "stream",
     "text": [
      "The largest number is  15.0\n"
     ]
    }
   ],
   "source": [
    "if (num1 >= num2) and (num1 >= num3):\n",
    "    largest = num1\n",
    "elif (num2 >= num3) and (num2 >= num3):\n",
    "    largest = num2\n",
    "else:\n",
    "    largest = num3\n",
    "print(\"The largest number is \", largest)"
   ]
  },
  {
   "cell_type": "code",
   "execution_count": 3,
   "metadata": {},
   "outputs": [
    {
     "name": "stdout",
     "output_type": "stream",
     "text": [
      "Positive number.\n"
     ]
    }
   ],
   "source": [
    "if num1 > 0:\n",
    "    print(\"Positive number.\")\n",
    "elif num1 == 0:\n",
    "    print(\"Zero\")\n",
    "else:\n",
    "    print(\"negative number\")"
   ]
  },
  {
   "cell_type": "code",
   "execution_count": 5,
   "metadata": {},
   "outputs": [
    {
     "name": "stdout",
     "output_type": "stream",
     "text": [
      "discounted price!\n"
     ]
    }
   ],
   "source": [
    "audience_group = \"kid\", \"teen\", \"adult\"\n",
    "audience = \"teen\"\n",
    "\n",
    "if audience in audience_group:\n",
    "    if audience == \"kid\":\n",
    "        print(\"it is free to go to cinema\")\n",
    "    elif audience == \"teen\":\n",
    "        print(\"discounted price!\")\n",
    "    else:\n",
    "        print(\"normal price\")\n",
    "else:\n",
    "    print(\"No such audience, stay at your home!\")"
   ]
  },
  {
   "cell_type": "code",
   "execution_count": 7,
   "metadata": {},
   "outputs": [
    {
     "name": "stdout",
     "output_type": "stream",
     "text": [
      "B\n"
     ]
    }
   ],
   "source": [
    "grades = float(input(\"Grade\"))\n",
    "\n",
    "if grades >= 95:\n",
    "    print(\"A+\")\n",
    "elif grades >= 90 and grades <= 94:\n",
    "    print(\"A\")\n",
    "elif grades >= 85 and grades <= 89:\n",
    "    print(\"B+\")\n",
    "elif grades >= 80 and grades <= 84:\n",
    "    print(\"B\")\n",
    "else:\n",
    "    print(\"B-\")\n"
   ]
  },
  {
   "cell_type": "code",
   "execution_count": 10,
   "metadata": {},
   "outputs": [
    {
     "name": "stdout",
     "output_type": "stream",
     "text": [
      "B\n"
     ]
    }
   ],
   "source": [
    "if grades >= 90:\n",
    "    if grades >= 95:\n",
    "        degree = \"A+\"\n",
    "    else:\n",
    "        degree = \"A\"\n",
    "elif grades >= 80:\n",
    "    if grades >= 85:\n",
    "        degree = \"B+\"\n",
    "    else:\n",
    "        degree = \"B\"\n",
    "else:\n",
    "    degree = \"B-\"\n",
    "print(degree)"
   ]
  },
  {
   "cell_type": "code",
   "execution_count": null,
   "metadata": {},
   "outputs": [],
   "source": []
  }
 ],
 "metadata": {
  "interpreter": {
   "hash": "63920ba7671579ad71e295679b81bc9a31ee6f053c6b33fd8df75406924f51a0"
  },
  "kernelspec": {
   "display_name": "Python 3.7.4 ('base')",
   "language": "python",
   "name": "python3"
  },
  "language_info": {
   "codemirror_mode": {
    "name": "ipython",
    "version": 3
   },
   "file_extension": ".py",
   "mimetype": "text/x-python",
   "name": "python",
   "nbconvert_exporter": "python",
   "pygments_lexer": "ipython3",
   "version": "3.7.4"
  },
  "orig_nbformat": 4
 },
 "nbformat": 4,
 "nbformat_minor": 2
}
