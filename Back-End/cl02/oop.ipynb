{
 "cells": [
  {
   "cell_type": "code",
   "execution_count": 23,
   "metadata": {},
   "outputs": [
    {
     "name": "stdout",
     "output_type": "stream",
     "text": [
      "Henry 18 male\n",
      "Ayse 22 female\n",
      "Henry - 18\n",
      "Ayse - 22\n",
      "Henry - 18\n"
     ]
    }
   ],
   "source": [
    "# class Person:\n",
    "#     company = \"clarusway\"\n",
    "\n",
    "#     def test(self):\n",
    "#         print(\"test\")\n",
    "\n",
    "#     def set_details(self, name, age):\n",
    "#         self.name = name\n",
    "#         self.age = age\n",
    "\n",
    "#     def get_details(self):\n",
    "#         print(self.name, self.age)\n",
    "\n",
    "#     @staticmethod\n",
    "#     # *Statik metodlar sabittir, @staticmetod kullanmazsak arguman isteyecektir. instance'ye gore degismez\n",
    "#     def salute():\n",
    "#         print(\"Hi there!\")\n",
    "\n",
    "\n",
    "# person1 = Person()\n",
    "# person2 = Person()\n",
    "\n",
    "# # person1.test()\n",
    "# # Person.test()\n",
    "\n",
    "# person1.set_details(\"barry\", 20)\n",
    "# person1.get_details()\n",
    "# print(person1.name)\n",
    "\n",
    "# person1.salute()\n",
    "\n",
    "#! Special method ( init, str )\n",
    "\n",
    "# class Person:\n",
    "#     company = 'clarusway'\n",
    "\n",
    "#     def __init__(self, name, age, gender=\"male\"):\n",
    "#         self.name = name\n",
    "#         self.age = age\n",
    "#         self.gender = gender\n",
    "#     def get_details(self):\n",
    "#         print(self.name, self.age, self.gender)\n",
    "# #*sefl instance demek\n",
    "#     def __str__(self):\n",
    "#         return f'{self.name} - {self.age}'\n",
    "\n",
    "\n",
    "# person1 = Person(\"Henry\", 18)\n",
    "# person1.get_details()\n",
    "\n",
    "# person2 = Person('Ayse', 22, \"female\")\n",
    "# person2.get_details()\n",
    "\n",
    "# print(person1)\n",
    "# print(person2)\n",
    "\n",
    "# print(person1.__str__())\n",
    "\n"
   ]
  },
  {
   "cell_type": "code",
   "execution_count": 34,
   "metadata": {},
   "outputs": [
    {
     "name": "stdout",
     "output_type": "stream",
     "text": [
      "5000\n",
      "3000\n"
     ]
    }
   ],
   "source": [
    "\n",
    "#! OOP Principles (4 pillars)\n",
    "\n",
    "# * encapsulation\n",
    "# * abstraction\n",
    "# * polymorhism\n",
    "# * inheritance\n",
    "\n",
    "# * encapsulation\n",
    "# class Person:\n",
    "#     company = 'clarusway'\n",
    "\n",
    "#     def __init__(self, name, age):\n",
    "#         self.name = name\n",
    "#         self.age = age\n",
    "#         self._id = 5000\n",
    "#         self.__id = 3000\n",
    "\n",
    "#     def __str__(self):\n",
    "#         return f'{self.name} - {self.age}'\n",
    "\n",
    "#     def get_details(self):\n",
    "#         print(self.name, self.age)\n",
    "\n",
    "person1 = Person('Hanry', 18)\n",
    "person2 = Person('William', 40)\n",
    "\n",
    "#!Tek alt cizgi degistirilmemesi gerektigini soyluyor fakat degistirmek mumkun\n",
    "print(person1._id)\n",
    "#!Iki alt cizgi ile olunca direk olarak degistirilemiyor.\n",
    "# print(person1.__id)\n",
    "print(person1._Person__id)\n"
   ]
  },
  {
   "cell_type": "code",
   "execution_count": 37,
   "metadata": {},
   "outputs": [
    {
     "name": "stdout",
     "output_type": "stream",
     "text": [
      "[2, 3, 4, 4, 5]\n"
     ]
    }
   ],
   "source": [
    "liste = [5,2,3,4,4]\n",
    "liste.sort()\n",
    "print(liste)"
   ]
  },
  {
   "cell_type": "code",
   "execution_count": 59,
   "metadata": {},
   "outputs": [
    {
     "name": "stdout",
     "output_type": "stream",
     "text": [
      "Vic 32\n",
      "FS\n",
      "['python', 'JS']\n"
     ]
    }
   ],
   "source": [
    "# * inheritance\n",
    "# * Inheritance\n",
    "\n",
    "\n",
    "#? \n",
    "class Person:\n",
    "    company = 'clarusway'\n",
    "\n",
    "    def __init__(self, name, age):\n",
    "        self.name = name\n",
    "        self.age = age\n",
    "        self._id = 5000\n",
    "        self.__id = 3000\n",
    "\n",
    "    def __str__(self):\n",
    "        return f'{self.name} - {self.age}'\n",
    "\n",
    "    def get_details(self):\n",
    "        print(self.name, self.age)\n",
    "\n",
    "\n",
    "class Lang:\n",
    "    def __init__(self, langs):\n",
    "        self.langs = langs\n",
    "    \n",
    "    def display_langs(self):\n",
    "        print(self.langs)\n",
    "\n",
    "\n",
    "class Employee(Person, Lang):\n",
    "    def __init__(self, name, age, path, langs):\n",
    "        # self.name = name\n",
    "        # self.age = age\n",
    "        #* Super ilk sirada yazilani temsil ediyor\n",
    "        super().__init__(name, age)\n",
    "        # self.langs = langs\n",
    "        Lang.__init__(self, langs)\n",
    "        self.path = path\n",
    "\n",
    "    def get_details(self):\n",
    "        # return (self.name, self.age, self.path)\n",
    "        super().get_details()\n",
    "        print(self.path)\n",
    "\n",
    "\n",
    "emp1 = Employee(\"Vic\", 32, 'FS', ['python', 'JS'])\n",
    "# emp1.get_details()\n",
    "# emp1.display_langs()\n",
    "\n",
    "\n",
    "\n"
   ]
  },
  {
   "cell_type": "code",
   "execution_count": 66,
   "metadata": {},
   "outputs": [],
   "source": [
    "#! Inner class\n",
    "\n",
    "# from django.db import models\n",
    "\n",
    "\n",
    "# class Article(models.Model):\n",
    "#     name = models.CharField(max_lenght=50)\n",
    "#     author = models.CharField(max_lenght=50)\n",
    "\n",
    "#     class Meta:  #Standart isim degismez class Meta:\n",
    "#         ordering = ['name']\n",
    "\n",
    "# print(Employee.mro())\n",
    "# print(help(Employee))\n",
    "\n"
   ]
  }
 ],
 "metadata": {
  "kernelspec": {
   "display_name": "Python 3.7.4 ('base')",
   "language": "python",
   "name": "python3"
  },
  "language_info": {
   "codemirror_mode": {
    "name": "ipython",
    "version": 3
   },
   "file_extension": ".py",
   "mimetype": "text/x-python",
   "name": "python",
   "nbconvert_exporter": "python",
   "pygments_lexer": "ipython3",
   "version": "3.7.4"
  },
  "orig_nbformat": 4,
  "vscode": {
   "interpreter": {
    "hash": "93cc5625497783c585ae9260533b84777a591753e47bc2cf296c6385e0dd2b89"
   }
  }
 },
 "nbformat": 4,
 "nbformat_minor": 2
}
