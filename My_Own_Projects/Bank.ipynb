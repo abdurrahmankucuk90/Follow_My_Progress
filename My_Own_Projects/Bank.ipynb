{
 "cells": [
  {
   "cell_type": "markdown",
   "metadata": {},
   "source": [
    "<h1> Bankanin islem sirketi\n",
    "<h4>\n",
    "    <li> create a costumer class included ; name, sirname, password, telefon number, adress, balance <br>\n",
    "    dictionary yap, cotumer ilki olcak update(\"costumer\") <br>\n",
    "    alt keyler update(costumer)(phone)\n",
    "    <li> login icin isim ve sifre al,\n",
    "    <li> sifreyi iki defa alip kontrol et\n",
    "    <li> eger sifreler uyusuyorsa, ismi ve sifreyi depola\n",
    "    <li> telefon numarasi, adresini de sor\n",
    "    <li> balance random ile yap\n",
    "    <li> log in icin bir kullanici ismi olustur\n",
    "    <li> sifre ile kullanici ismi uyusuyorsa balaceyi getir\n",
    "    <li> para cekip cekmeyecegini sorsun\n",
    "    <li> cekilen parayi cikartsin\n",
    "   "
   ]
  },
  {
   "cell_type": "code",
   "execution_count": 12,
   "metadata": {},
   "outputs": [
    {
     "name": "stdout",
     "output_type": "stream",
     "text": [
      "{'customer': {'name': 'abdurrahman', 'last name': 'kucuk', 'phone': '1234', 'adress': 'abdf'}}\n"
     ]
    }
   ],
   "source": [
    "# bank_cost = {}\n",
    "\n",
    "# def get_pass():\n",
    "#     while True:\n",
    "#         password = ()\n",
    "#         password0 = input(\"Please write a password: \")\n",
    "#         password1 = input(\"Please rewrite your password: \")\n",
    "#         if password0 == password1:\n",
    "#             password = password0\n",
    "#             break\n",
    "#         else:\n",
    "#             get_pass()\n",
    "\n",
    "\n",
    "# def get_cost():\n",
    "#     bank_cost[\"customer\"] = {}\n",
    "#     name = input(\"Write your name please: \").lower()\n",
    "#     lname = input(\"Write your last name please: \").lower()\n",
    "#     phone = input(\"Please write your number: \")\n",
    "#     while True:\n",
    "#         adress = input(\"write your adress please: \").lower()\n",
    "#         if phone.isdigit():\n",
    "#             break\n",
    "#         else:\n",
    "#             phone = input(\"Please write a digit number: \")\n",
    "#     # get_pass()\n",
    "    \n",
    "#     # bank_cost[\"customer\"][\"password\"] = password\n",
    "#     bank_cost[\"customer\"][\"name\"] = name\n",
    "#     bank_cost[\"customer\"][\"last name\"] = lname\n",
    "#     bank_cost[\"customer\"][\"phone\"] = phone\n",
    "#     bank_cost[\"customer\"][\"adress\"] = adress\n",
    "\n",
    "# reset = \"n\"  # To add new Customer\n",
    "    \n",
    "# # for i in range(1, 5):\n",
    "# get_cost()\n",
    "# print(bank_cost)\n"
   ]
  },
  {
   "cell_type": "code",
   "execution_count": 1,
   "metadata": {},
   "outputs": [
    {
     "ename": "SyntaxError",
     "evalue": "invalid syntax (<ipython-input-1-069ff9229612>, line 12)",
     "output_type": "error",
     "traceback": [
      "\u001b[1;36m  File \u001b[1;32m\"<ipython-input-1-069ff9229612>\"\u001b[1;36m, line \u001b[1;32m12\u001b[0m\n\u001b[1;33m    return \"password\":password\u001b[0m\n\u001b[1;37m                     ^\u001b[0m\n\u001b[1;31mSyntaxError\u001b[0m\u001b[1;31m:\u001b[0m invalid syntax\n"
     ]
    }
   ],
   "source": [
    "bank_cost = []\n",
    "laborer = []\n",
    "repeater = \"y\"\n",
    "information_list = []\n",
    "pass1 = ()\n",
    "\n",
    "def get_pass():\n",
    "    while True:\n",
    "        pass1 = input(\"Your pass pls\")\n",
    "        pass2 = input(\"Repeat your pass\")\n",
    "        if pass1 == pass2:\n",
    "            password = pass1\n",
    "            break\n",
    "        else:\n",
    "            continue\n",
    "\n",
    "\n",
    "while repeater == \"y\":\n",
    "\n",
    "\n",
    "    laborer.append(input(\"what is your name\"))\n",
    "    get_pass()\n",
    "    information_list.append(\n",
    "        {\n",
    "            \"phone\":int(input(\"phone\")), \"password\":password\n",
    "        }\n",
    "    )\n",
    "    bank_cost.append(dict(zip(laborer,information_list)))\n",
    "    repeater = input(\"new customer?\")\n",
    "print(bank_cost)\n",
    "\n",
    "\n"
   ]
  },
  {
   "cell_type": "code",
   "execution_count": null,
   "metadata": {},
   "outputs": [],
   "source": [
    "laborer = []\n",
    "information_list = []\n",
    "toplam = 0\n",
    "repeater = \"y\"\n",
    "while repeater == \"y\":\n",
    "\n",
    "    laborer.append(input(\"name:\"))\n",
    "    # phone = int(input(\"phone number\"))\n",
    "    # address = input(\"address pls.\")\n",
    "    information_list.append({\"phone\" : int(input(\"phone number\")), \"address\" : input(\"address pls.\")})\n",
    "    toplam += 1\n",
    "    repeater = input(\"(y/n)\").lower().strip()\n",
    "    \n",
    "\n",
    "Result = dict(zip(laborer, information_list))\n",
    "print(Result)"
   ]
  }
 ],
 "metadata": {
  "interpreter": {
   "hash": "63920ba7671579ad71e295679b81bc9a31ee6f053c6b33fd8df75406924f51a0"
  },
  "kernelspec": {
   "display_name": "Python 3.7.4 ('base')",
   "language": "python",
   "name": "python3"
  },
  "language_info": {
   "codemirror_mode": {
    "name": "ipython",
    "version": 3
   },
   "file_extension": ".py",
   "mimetype": "text/x-python",
   "name": "python",
   "nbconvert_exporter": "python",
   "pygments_lexer": "ipython3",
   "version": "3.7.4"
  },
  "orig_nbformat": 4
 },
 "nbformat": 4,
 "nbformat_minor": 2
}
